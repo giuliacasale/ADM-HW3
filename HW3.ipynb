{
 "cells": [
  {
   "cell_type": "code",
   "execution_count": 1,
   "metadata": {},
   "outputs": [],
   "source": [
    "import numpy as np\n",
    "import pandas as pd\n",
    "import math\n",
    "import nltk\n",
    "import itertools\n",
    "import functions as fn\n",
    "import os\n",
    "from collections import defaultdict\n",
    "from collections import OrderedDict\n",
    "from collections import Counter\n",
    "from nltk.corpus import stopwords \n",
    "from nltk.stem import PorterStemmer\n",
    "from nltk.tokenize import RegexpTokenizer\n",
    "\n",
    "import pickle"
   ]
  },
  {
   "cell_type": "markdown",
   "metadata": {},
   "source": [
    "## Load Data into Data Frame and Save it"
   ]
  },
  {
   "cell_type": "markdown",
   "metadata": {},
   "source": [
    "#### EXECUTED JUST ONCE AT THE BEGINNING"
   ]
  },
  {
   "cell_type": "code",
   "execution_count": null,
   "metadata": {},
   "outputs": [],
   "source": [
    "df = fn.create_dataframe()"
   ]
  },
  {
   "cell_type": "markdown",
   "metadata": {},
   "source": [
    "To save the dataframe we have created into one csv file, so that we could jut import it instead of recreating it every time, we used this command JUST ONCE:"
   ]
  },
  {
   "cell_type": "code",
   "execution_count": 3,
   "metadata": {},
   "outputs": [],
   "source": [
    "df.to_csv(r'./data.csv', index = False)    "
   ]
  },
  {
   "cell_type": "markdown",
   "metadata": {},
   "source": [
    "#### READ ONLY THE COLUMNS THAT WE NEED IN THE DATAFRAME CREATED"
   ]
  },
  {
   "cell_type": "code",
   "execution_count": 2,
   "metadata": {},
   "outputs": [],
   "source": [
    "df = pd.read_csv(\"./data.csv\", usecols= ['bookTitle','plot','url'])    #to read"
   ]
  },
  {
   "cell_type": "markdown",
   "metadata": {},
   "source": [
    "This time we are only importing the columns that we will need in our analysis to make the process smoother and faster"
   ]
  },
  {
   "cell_type": "code",
   "execution_count": 3,
   "metadata": {
    "scrolled": false
   },
   "outputs": [
    {
     "data": {
      "text/html": [
       "<div>\n",
       "<style scoped>\n",
       "    .dataframe tbody tr th:only-of-type {\n",
       "        vertical-align: middle;\n",
       "    }\n",
       "\n",
       "    .dataframe tbody tr th {\n",
       "        vertical-align: top;\n",
       "    }\n",
       "\n",
       "    .dataframe thead th {\n",
       "        text-align: right;\n",
       "    }\n",
       "</style>\n",
       "<table border=\"1\" class=\"dataframe\">\n",
       "  <thead>\n",
       "    <tr style=\"text-align: right;\">\n",
       "      <th></th>\n",
       "      <th>bookTitle</th>\n",
       "      <th>plot</th>\n",
       "      <th>url</th>\n",
       "    </tr>\n",
       "  </thead>\n",
       "  <tbody>\n",
       "    <tr>\n",
       "      <th>0</th>\n",
       "      <td>The Hunger Games</td>\n",
       "      <td>Could you survive on your own in the wild, wit...</td>\n",
       "      <td>https://www.goodreads.com/work/best_book/27927...</td>\n",
       "    </tr>\n",
       "    <tr>\n",
       "      <th>1</th>\n",
       "      <td>Harry Potter and the Order of the Phoenix</td>\n",
       "      <td>There is a door at the end of a silent corrido...</td>\n",
       "      <td>https://www.goodreads.com/work/best_book/28092...</td>\n",
       "    </tr>\n",
       "    <tr>\n",
       "      <th>2</th>\n",
       "      <td>To Kill a Mockingbird</td>\n",
       "      <td>The unforgettable novel of a childhood in a sl...</td>\n",
       "      <td>https://www.goodreads.com/work/best_book/32757...</td>\n",
       "    </tr>\n",
       "    <tr>\n",
       "      <th>3</th>\n",
       "      <td>Pride and Prejudice</td>\n",
       "      <td>Alternate cover edition of ISBN 9780679783268S...</td>\n",
       "      <td>https://www.goodreads.com/work/best_book/30609...</td>\n",
       "    </tr>\n",
       "    <tr>\n",
       "      <th>4</th>\n",
       "      <td>Twilight</td>\n",
       "      <td>About three things I was absolutely positive.F...</td>\n",
       "      <td>https://www.goodreads.com/work/best_book/32122...</td>\n",
       "    </tr>\n",
       "    <tr>\n",
       "      <th>...</th>\n",
       "      <td>...</td>\n",
       "      <td>...</td>\n",
       "      <td>...</td>\n",
       "    </tr>\n",
       "    <tr>\n",
       "      <th>27104</th>\n",
       "      <td>Chicken Soup for the Soul: From Lemons to Lemo...</td>\n",
       "      <td>From lemons to lemonade; from heartbreak to ha...</td>\n",
       "      <td>https://www.goodreads.com/work/best_book/21955...</td>\n",
       "    </tr>\n",
       "    <tr>\n",
       "      <th>27105</th>\n",
       "      <td>The Lucy Variations</td>\n",
       "      <td>Lucy Beck-Moreau once had a promising future a...</td>\n",
       "      <td>https://www.goodreads.com/work/best_book/16774...</td>\n",
       "    </tr>\n",
       "    <tr>\n",
       "      <th>27106</th>\n",
       "      <td>Look to See Me: A Collection of Reflections</td>\n",
       "      <td>NaN</td>\n",
       "      <td>https://www.goodreads.com/book/show/11457776-l...</td>\n",
       "    </tr>\n",
       "    <tr>\n",
       "      <th>27107</th>\n",
       "      <td>The Silver Wolf</td>\n",
       "      <td>Regeane is a fatherless royal relation who hap...</td>\n",
       "      <td>https://www.goodreads.com/work/best_book/25070...</td>\n",
       "    </tr>\n",
       "    <tr>\n",
       "      <th>27108</th>\n",
       "      <td>Barefoot in Baghdad: A Story of Identity-My Ow...</td>\n",
       "      <td>Walk barefoot and the thorns will hurt you… —I...</td>\n",
       "      <td>https://www.goodreads.com/work/best_book/13485...</td>\n",
       "    </tr>\n",
       "  </tbody>\n",
       "</table>\n",
       "<p>27109 rows × 3 columns</p>\n",
       "</div>"
      ],
      "text/plain": [
       "                                               bookTitle  \\\n",
       "0                                       The Hunger Games   \n",
       "1              Harry Potter and the Order of the Phoenix   \n",
       "2                                  To Kill a Mockingbird   \n",
       "3                                    Pride and Prejudice   \n",
       "4                                               Twilight   \n",
       "...                                                  ...   \n",
       "27104  Chicken Soup for the Soul: From Lemons to Lemo...   \n",
       "27105                                The Lucy Variations   \n",
       "27106        Look to See Me: A Collection of Reflections   \n",
       "27107                                    The Silver Wolf   \n",
       "27108  Barefoot in Baghdad: A Story of Identity-My Ow...   \n",
       "\n",
       "                                                    plot  \\\n",
       "0      Could you survive on your own in the wild, wit...   \n",
       "1      There is a door at the end of a silent corrido...   \n",
       "2      The unforgettable novel of a childhood in a sl...   \n",
       "3      Alternate cover edition of ISBN 9780679783268S...   \n",
       "4      About three things I was absolutely positive.F...   \n",
       "...                                                  ...   \n",
       "27104  From lemons to lemonade; from heartbreak to ha...   \n",
       "27105  Lucy Beck-Moreau once had a promising future a...   \n",
       "27106                                                NaN   \n",
       "27107  Regeane is a fatherless royal relation who hap...   \n",
       "27108  Walk barefoot and the thorns will hurt you… —I...   \n",
       "\n",
       "                                                     url  \n",
       "0      https://www.goodreads.com/work/best_book/27927...  \n",
       "1      https://www.goodreads.com/work/best_book/28092...  \n",
       "2      https://www.goodreads.com/work/best_book/32757...  \n",
       "3      https://www.goodreads.com/work/best_book/30609...  \n",
       "4      https://www.goodreads.com/work/best_book/32122...  \n",
       "...                                                  ...  \n",
       "27104  https://www.goodreads.com/work/best_book/21955...  \n",
       "27105  https://www.goodreads.com/work/best_book/16774...  \n",
       "27106  https://www.goodreads.com/book/show/11457776-l...  \n",
       "27107  https://www.goodreads.com/work/best_book/25070...  \n",
       "27108  https://www.goodreads.com/work/best_book/13485...  \n",
       "\n",
       "[27109 rows x 3 columns]"
      ]
     },
     "execution_count": 3,
     "metadata": {},
     "output_type": "execute_result"
    }
   ],
   "source": [
    "df"
   ]
  },
  {
   "cell_type": "markdown",
   "metadata": {},
   "source": [
    "#### Before starting we want to define some useful functions that we will use to save dictionaries into pickle files and load them back every time we might need them"
   ]
  },
  {
   "cell_type": "code",
   "execution_count": 4,
   "metadata": {},
   "outputs": [],
   "source": [
    "#Useful functions to save and load files in pickle format\n",
    "def save_dict(obj, name ):\n",
    "    with open(f'{name}.pickle', 'wb') as f:\n",
    "        pickle.dump(obj, f)\n",
    "\n",
    "def load_obj(name ):\n",
    "    with open(f'{name}.pickle', 'rb') as f:\n",
    "        return pickle.load(f)"
   ]
  },
  {
   "cell_type": "markdown",
   "metadata": {},
   "source": [
    "# Q2. Search Engine\n",
    "## 2.1. Conjunctive query\n",
    "In this firts version of the search engine we just want to evaluate conjuctive queries (AND) with respect of only the **plot** of the books"
   ]
  },
  {
   "cell_type": "markdown",
   "metadata": {},
   "source": [
    "### Examine Null Values"
   ]
  },
  {
   "cell_type": "code",
   "execution_count": 5,
   "metadata": {
    "scrolled": true
   },
   "outputs": [
    {
     "data": {
      "text/plain": [
       "582"
      ]
     },
     "execution_count": 5,
     "metadata": {},
     "output_type": "execute_result"
    }
   ],
   "source": [
    "df['plot'].isnull().sum()"
   ]
  },
  {
   "cell_type": "markdown",
   "metadata": {},
   "source": [
    "#### substitute nulla values in the plot with a string"
   ]
  },
  {
   "cell_type": "code",
   "execution_count": 6,
   "metadata": {
    "scrolled": true
   },
   "outputs": [],
   "source": [
    "df['plot'].fillna('unknown',inplace = True)"
   ]
  },
  {
   "cell_type": "code",
   "execution_count": 7,
   "metadata": {},
   "outputs": [
    {
     "data": {
      "text/plain": [
       "0"
      ]
     },
     "execution_count": 7,
     "metadata": {},
     "output_type": "execute_result"
    }
   ],
   "source": [
    "df['plot'].isnull().sum()"
   ]
  },
  {
   "cell_type": "markdown",
   "metadata": {},
   "source": [
    "The first thing to do, when building a search engine is creating a **vocabulary**. We will first look at all the unique words into the plot of each book and create a list of them, then, from this list, we will map each word to an integer, that we will call **term_id** and will be useful in the future creation of the **inverted index**."
   ]
  },
  {
   "cell_type": "markdown",
   "metadata": {},
   "source": [
    "#### The next two cells were runned just one time at the beginning"
   ]
  },
  {
   "cell_type": "code",
   "execution_count": 8,
   "metadata": {},
   "outputs": [],
   "source": [
    "dictionary = fn.build_dictionary(df)"
   ]
  },
  {
   "cell_type": "code",
   "execution_count": 9,
   "metadata": {},
   "outputs": [],
   "source": [
    "save_dict(dictionary,'vocabulary')   #to save"
   ]
  },
  {
   "cell_type": "markdown",
   "metadata": {},
   "source": [
    "#### Everytime that we restart the notebook we just need to load the file that we have already created, using the command below:"
   ]
  },
  {
   "cell_type": "code",
   "execution_count": 8,
   "metadata": {},
   "outputs": [],
   "source": [
    "dictionary = load_obj('vocabulary')  #to load"
   ]
  },
  {
   "cell_type": "markdown",
   "metadata": {},
   "source": [
    "Now, before calculating the inverted index we will determine, for each document, the frequency of each word in the document:"
   ]
  },
  {
   "cell_type": "code",
   "execution_count": 10,
   "metadata": {},
   "outputs": [],
   "source": [
    "frequency_of_words = fn.frequency_of_words_per_book(df,dictionary)"
   ]
  },
  {
   "cell_type": "markdown",
   "metadata": {},
   "source": [
    "We now have all the tools needed to create our first **inverted index**: we will run the cell below just one time and store the inverted index in a pickle file so that we can recall it every time we need it."
   ]
  },
  {
   "cell_type": "markdown",
   "metadata": {},
   "source": [
    "#### The next two cells were runned just one time at the beginning"
   ]
  },
  {
   "cell_type": "code",
   "execution_count": 31,
   "metadata": {},
   "outputs": [],
   "source": [
    "inverted_index_1 = fn.inverted_index1(df,dictionary,frequency_of_words)"
   ]
  },
  {
   "cell_type": "code",
   "execution_count": 32,
   "metadata": {},
   "outputs": [],
   "source": [
    "save_dict(inverted_index_1,'inverted_index_1')    #to save"
   ]
  },
  {
   "cell_type": "markdown",
   "metadata": {},
   "source": [
    "#### Everytime that we restart the notebook we just need to load the file that we have already created, using the command below:"
   ]
  },
  {
   "cell_type": "code",
   "execution_count": 11,
   "metadata": {},
   "outputs": [],
   "source": [
    "inverted_index_1 = load_obj('inverted_index_1')   #to load"
   ]
  },
  {
   "cell_type": "markdown",
   "metadata": {},
   "source": [
    "Let's now give in input a query:"
   ]
  },
  {
   "cell_type": "code",
   "execution_count": 13,
   "metadata": {},
   "outputs": [
    {
     "name": "stdout",
     "output_type": "stream",
     "text": [
      "survival games\n"
     ]
    }
   ],
   "source": [
    "query = input()"
   ]
  },
  {
   "cell_type": "markdown",
   "metadata": {},
   "source": [
    "We have to pre-process the query as well if we want to recall it inside our inverted index"
   ]
  },
  {
   "cell_type": "code",
   "execution_count": 14,
   "metadata": {},
   "outputs": [
    {
     "data": {
      "text/plain": [
       "['surviv', 'game']"
      ]
     },
     "execution_count": 14,
     "metadata": {},
     "output_type": "execute_result"
    }
   ],
   "source": [
    "query = fn.query_processed(query)\n",
    "query"
   ]
  },
  {
   "cell_type": "markdown",
   "metadata": {},
   "source": [
    "### SEARCH ENGINE 1"
   ]
  },
  {
   "cell_type": "markdown",
   "metadata": {},
   "source": [
    "Now we have **everything** so we can implement our very first **search engine**"
   ]
  },
  {
   "cell_type": "code",
   "execution_count": 15,
   "metadata": {
    "scrolled": false
   },
   "outputs": [],
   "source": [
    "output = fn.search_engine1(query,df,inverted_index_1,dictionary)"
   ]
  },
  {
   "cell_type": "code",
   "execution_count": 16,
   "metadata": {},
   "outputs": [
    {
     "data": {
      "text/html": [
       "<div>\n",
       "<style scoped>\n",
       "    .dataframe tbody tr th:only-of-type {\n",
       "        vertical-align: middle;\n",
       "    }\n",
       "\n",
       "    .dataframe tbody tr th {\n",
       "        vertical-align: top;\n",
       "    }\n",
       "\n",
       "    .dataframe thead th {\n",
       "        text-align: right;\n",
       "    }\n",
       "</style>\n",
       "<table border=\"1\" class=\"dataframe\">\n",
       "  <thead>\n",
       "    <tr style=\"text-align: right;\">\n",
       "      <th></th>\n",
       "      <th>bookTitle</th>\n",
       "      <th>plot</th>\n",
       "      <th>url</th>\n",
       "    </tr>\n",
       "  </thead>\n",
       "  <tbody>\n",
       "    <tr>\n",
       "      <th>0</th>\n",
       "      <td>The Hunger Games</td>\n",
       "      <td>Could you survive on your own in the wild, wit...</td>\n",
       "      <td>https://www.goodreads.com/work/best_book/27927...</td>\n",
       "    </tr>\n",
       "    <tr>\n",
       "      <th>1</th>\n",
       "      <td>Catching Fire</td>\n",
       "      <td>SPARKS ARE IGNITING.FLAMES ARE SPREADING.AND T...</td>\n",
       "      <td>https://www.goodreads.com/work/best_book/61714...</td>\n",
       "    </tr>\n",
       "    <tr>\n",
       "      <th>2</th>\n",
       "      <td>Mockingjay</td>\n",
       "      <td>The final book in the ground-breaking HUNGER G...</td>\n",
       "      <td>https://www.goodreads.com/work/best_book/88127...</td>\n",
       "    </tr>\n",
       "    <tr>\n",
       "      <th>3</th>\n",
       "      <td>Legend</td>\n",
       "      <td>What was once the western United States is now...</td>\n",
       "      <td>https://www.goodreads.com/work/best_book/14157...</td>\n",
       "    </tr>\n",
       "    <tr>\n",
       "      <th>4</th>\n",
       "      <td>A Child Called \"It\"</td>\n",
       "      <td>Also see: Alternate Cover Editions for this IS...</td>\n",
       "      <td>https://www.goodreads.com/work/best_book/59104...</td>\n",
       "    </tr>\n",
       "    <tr>\n",
       "      <th>5</th>\n",
       "      <td>The Magus</td>\n",
       "      <td>This daring literary thriller, rich with eroti...</td>\n",
       "      <td>https://www.goodreads.com/work/best_book/18164...</td>\n",
       "    </tr>\n",
       "    <tr>\n",
       "      <th>6</th>\n",
       "      <td>Ender's Shadow</td>\n",
       "      <td>Welcome to Battleschool.Growing up is never ea...</td>\n",
       "      <td>https://www.goodreads.com/work/best_book/31455...</td>\n",
       "    </tr>\n",
       "    <tr>\n",
       "      <th>7</th>\n",
       "      <td>The Lucky One</td>\n",
       "      <td>When U.S. Marine Logan Thibault finds a photog...</td>\n",
       "      <td>https://www.goodreads.com/work/best_book/30944...</td>\n",
       "    </tr>\n",
       "    <tr>\n",
       "      <th>8</th>\n",
       "      <td>Sliding on the Snow Stone</td>\n",
       "      <td>It is astonishing that anyone lived this story...</td>\n",
       "      <td>https://www.goodreads.com/work/best_book/18004...</td>\n",
       "    </tr>\n",
       "    <tr>\n",
       "      <th>9</th>\n",
       "      <td>Code Name Verity</td>\n",
       "      <td>Oct. 11th, 1943 - A British spy plane crashes ...</td>\n",
       "      <td>https://www.goodreads.com/work/best_book/16885...</td>\n",
       "    </tr>\n",
       "  </tbody>\n",
       "</table>\n",
       "</div>"
      ],
      "text/plain": [
       "                   bookTitle  \\\n",
       "0           The Hunger Games   \n",
       "1              Catching Fire   \n",
       "2                 Mockingjay   \n",
       "3                     Legend   \n",
       "4        A Child Called \"It\"   \n",
       "5                  The Magus   \n",
       "6             Ender's Shadow   \n",
       "7              The Lucky One   \n",
       "8  Sliding on the Snow Stone   \n",
       "9           Code Name Verity   \n",
       "\n",
       "                                                plot  \\\n",
       "0  Could you survive on your own in the wild, wit...   \n",
       "1  SPARKS ARE IGNITING.FLAMES ARE SPREADING.AND T...   \n",
       "2  The final book in the ground-breaking HUNGER G...   \n",
       "3  What was once the western United States is now...   \n",
       "4  Also see: Alternate Cover Editions for this IS...   \n",
       "5  This daring literary thriller, rich with eroti...   \n",
       "6  Welcome to Battleschool.Growing up is never ea...   \n",
       "7  When U.S. Marine Logan Thibault finds a photog...   \n",
       "8  It is astonishing that anyone lived this story...   \n",
       "9  Oct. 11th, 1943 - A British spy plane crashes ...   \n",
       "\n",
       "                                                 url  \n",
       "0  https://www.goodreads.com/work/best_book/27927...  \n",
       "1  https://www.goodreads.com/work/best_book/61714...  \n",
       "2  https://www.goodreads.com/work/best_book/88127...  \n",
       "3  https://www.goodreads.com/work/best_book/14157...  \n",
       "4  https://www.goodreads.com/work/best_book/59104...  \n",
       "5  https://www.goodreads.com/work/best_book/18164...  \n",
       "6  https://www.goodreads.com/work/best_book/31455...  \n",
       "7  https://www.goodreads.com/work/best_book/30944...  \n",
       "8  https://www.goodreads.com/work/best_book/18004...  \n",
       "9  https://www.goodreads.com/work/best_book/16885...  "
      ]
     },
     "execution_count": 16,
     "metadata": {},
     "output_type": "execute_result"
    }
   ],
   "source": [
    "output.head(10)"
   ]
  },
  {
   "cell_type": "markdown",
   "metadata": {},
   "source": [
    "## 2.2 Conjunctive query & Ranking score\n",
    "### For the second search engine, given a query, we want to get the top-k documents related to the query. In particular:\n",
    "- Find all the documents that contains all the words in the query.\n",
    "- Sort them by their similarity with the query\n",
    "- Return in output k documents, or all the documents with non-zero similarity with the query when the results are less than k. "
   ]
  },
  {
   "cell_type": "code",
   "execution_count": 17,
   "metadata": {},
   "outputs": [
    {
     "data": {
      "text/html": [
       "<div>\n",
       "<style scoped>\n",
       "    .dataframe tbody tr th:only-of-type {\n",
       "        vertical-align: middle;\n",
       "    }\n",
       "\n",
       "    .dataframe tbody tr th {\n",
       "        vertical-align: top;\n",
       "    }\n",
       "\n",
       "    .dataframe thead th {\n",
       "        text-align: right;\n",
       "    }\n",
       "</style>\n",
       "<table border=\"1\" class=\"dataframe\">\n",
       "  <thead>\n",
       "    <tr style=\"text-align: right;\">\n",
       "      <th></th>\n",
       "      <th>bookTitle</th>\n",
       "      <th>plot</th>\n",
       "      <th>url</th>\n",
       "    </tr>\n",
       "  </thead>\n",
       "  <tbody>\n",
       "    <tr>\n",
       "      <th>0</th>\n",
       "      <td>The Hunger Games</td>\n",
       "      <td>Could you survive on your own in the wild, wit...</td>\n",
       "      <td>https://www.goodreads.com/work/best_book/27927...</td>\n",
       "    </tr>\n",
       "    <tr>\n",
       "      <th>1</th>\n",
       "      <td>Harry Potter and the Order of the Phoenix</td>\n",
       "      <td>There is a door at the end of a silent corrido...</td>\n",
       "      <td>https://www.goodreads.com/work/best_book/28092...</td>\n",
       "    </tr>\n",
       "    <tr>\n",
       "      <th>2</th>\n",
       "      <td>To Kill a Mockingbird</td>\n",
       "      <td>The unforgettable novel of a childhood in a sl...</td>\n",
       "      <td>https://www.goodreads.com/work/best_book/32757...</td>\n",
       "    </tr>\n",
       "    <tr>\n",
       "      <th>3</th>\n",
       "      <td>Pride and Prejudice</td>\n",
       "      <td>Alternate cover edition of ISBN 9780679783268S...</td>\n",
       "      <td>https://www.goodreads.com/work/best_book/30609...</td>\n",
       "    </tr>\n",
       "    <tr>\n",
       "      <th>4</th>\n",
       "      <td>Twilight</td>\n",
       "      <td>About three things I was absolutely positive.F...</td>\n",
       "      <td>https://www.goodreads.com/work/best_book/32122...</td>\n",
       "    </tr>\n",
       "    <tr>\n",
       "      <th>...</th>\n",
       "      <td>...</td>\n",
       "      <td>...</td>\n",
       "      <td>...</td>\n",
       "    </tr>\n",
       "    <tr>\n",
       "      <th>27104</th>\n",
       "      <td>Chicken Soup for the Soul: From Lemons to Lemo...</td>\n",
       "      <td>From lemons to lemonade; from heartbreak to ha...</td>\n",
       "      <td>https://www.goodreads.com/work/best_book/21955...</td>\n",
       "    </tr>\n",
       "    <tr>\n",
       "      <th>27105</th>\n",
       "      <td>The Lucy Variations</td>\n",
       "      <td>Lucy Beck-Moreau once had a promising future a...</td>\n",
       "      <td>https://www.goodreads.com/work/best_book/16774...</td>\n",
       "    </tr>\n",
       "    <tr>\n",
       "      <th>27106</th>\n",
       "      <td>Look to See Me: A Collection of Reflections</td>\n",
       "      <td>unknown</td>\n",
       "      <td>https://www.goodreads.com/book/show/11457776-l...</td>\n",
       "    </tr>\n",
       "    <tr>\n",
       "      <th>27107</th>\n",
       "      <td>The Silver Wolf</td>\n",
       "      <td>Regeane is a fatherless royal relation who hap...</td>\n",
       "      <td>https://www.goodreads.com/work/best_book/25070...</td>\n",
       "    </tr>\n",
       "    <tr>\n",
       "      <th>27108</th>\n",
       "      <td>Barefoot in Baghdad: A Story of Identity-My Ow...</td>\n",
       "      <td>Walk barefoot and the thorns will hurt you… —I...</td>\n",
       "      <td>https://www.goodreads.com/work/best_book/13485...</td>\n",
       "    </tr>\n",
       "  </tbody>\n",
       "</table>\n",
       "<p>27109 rows × 3 columns</p>\n",
       "</div>"
      ],
      "text/plain": [
       "                                               bookTitle  \\\n",
       "0                                       The Hunger Games   \n",
       "1              Harry Potter and the Order of the Phoenix   \n",
       "2                                  To Kill a Mockingbird   \n",
       "3                                    Pride and Prejudice   \n",
       "4                                               Twilight   \n",
       "...                                                  ...   \n",
       "27104  Chicken Soup for the Soul: From Lemons to Lemo...   \n",
       "27105                                The Lucy Variations   \n",
       "27106        Look to See Me: A Collection of Reflections   \n",
       "27107                                    The Silver Wolf   \n",
       "27108  Barefoot in Baghdad: A Story of Identity-My Ow...   \n",
       "\n",
       "                                                    plot  \\\n",
       "0      Could you survive on your own in the wild, wit...   \n",
       "1      There is a door at the end of a silent corrido...   \n",
       "2      The unforgettable novel of a childhood in a sl...   \n",
       "3      Alternate cover edition of ISBN 9780679783268S...   \n",
       "4      About three things I was absolutely positive.F...   \n",
       "...                                                  ...   \n",
       "27104  From lemons to lemonade; from heartbreak to ha...   \n",
       "27105  Lucy Beck-Moreau once had a promising future a...   \n",
       "27106                                            unknown   \n",
       "27107  Regeane is a fatherless royal relation who hap...   \n",
       "27108  Walk barefoot and the thorns will hurt you… —I...   \n",
       "\n",
       "                                                     url  \n",
       "0      https://www.goodreads.com/work/best_book/27927...  \n",
       "1      https://www.goodreads.com/work/best_book/28092...  \n",
       "2      https://www.goodreads.com/work/best_book/32757...  \n",
       "3      https://www.goodreads.com/work/best_book/30609...  \n",
       "4      https://www.goodreads.com/work/best_book/32122...  \n",
       "...                                                  ...  \n",
       "27104  https://www.goodreads.com/work/best_book/21955...  \n",
       "27105  https://www.goodreads.com/work/best_book/16774...  \n",
       "27106  https://www.goodreads.com/book/show/11457776-l...  \n",
       "27107  https://www.goodreads.com/work/best_book/25070...  \n",
       "27108  https://www.goodreads.com/work/best_book/13485...  \n",
       "\n",
       "[27109 rows x 3 columns]"
      ]
     },
     "execution_count": 17,
     "metadata": {},
     "output_type": "execute_result"
    }
   ],
   "source": [
    "df"
   ]
  },
  {
   "cell_type": "code",
   "execution_count": 18,
   "metadata": {
    "scrolled": false
   },
   "outputs": [
    {
     "data": {
      "text/plain": [
       "bookTitle    0\n",
       "plot         0\n",
       "url          0\n",
       "dtype: int64"
      ]
     },
     "execution_count": 18,
     "metadata": {},
     "output_type": "execute_result"
    }
   ],
   "source": [
    "df.isnull().sum()"
   ]
  },
  {
   "cell_type": "markdown",
   "metadata": {},
   "source": [
    "To answer this question we first need to define the concepts of **TF-IDF score** and **cosine similarity**.\n",
    "\n",
    "**TF-IDF** stands for **Term Frequency-Inverse Document Frequency**. This tecnique is used to quantify the words inside a document by giving a weigth to each word in proportion with its importance.\n",
    "\n",
    "So, this score is given by two main components:\n",
    "- *Term Frequency*: that measures the frequency of a word in a document. It is given by: $\\textrm{tf}(t,d)=\\frac{\\textrm{count of t in d}}{\\textrm{number of words in d}}$\n",
    "\n",
    "\n",
    "- *Document Frequency*: it measures the importance of the document by counting the number of documents is which a certain word is present (at least one time): \n",
    "$\\textrm{df}(t) = \\textrm{occurrence of t in documents}$\n",
    "\n",
    "But we actually need the *Inverse Document Frequency*:\n",
    "it measures the informativeness of the term t in the document. IDF will be small if the occurence of the words is very big and viceversa:\n",
    "    $\\textrm{idf}(t) = \\frac{N}{\\textrm{df}}$\n",
    "\n",
    "There may be some problems with $IDF$, in particular in the cases where the corpus is really large, so in this case it may be convenient to take the log of it.\n",
    "Also, if a word that is not in the pre-determined vocabolary occurs, its df will be equal to $0$, but then we would have a division with 0 at the denominator, which, of course, is going to lead to an error. To solve this issue we are just going to add a 1 to the denominator. So, the final formula is: $\\textrm{idf}(t) = \\textrm{log}(\\frac{N}{\\textrm{df}+1})$\n",
    "\n",
    "Finally, the TD-IDF score is defined by:        \n",
    "\n",
    "$\\textrm{tf}-\\textrm{idf}(t,d) = \\textrm{tf}(t,d)*\\textrm{log}(\\frac{N}{\\textrm{df}+1})$\n"
   ]
  },
  {
   "cell_type": "markdown",
   "metadata": {},
   "source": [
    "## Step 1: calculate TF-IDF score"
   ]
  },
  {
   "cell_type": "code",
   "execution_count": 41,
   "metadata": {},
   "outputs": [],
   "source": [
    "tf_score = fn.tf(df,dictionary,frequency_of_words)"
   ]
  },
  {
   "cell_type": "code",
   "execution_count": 42,
   "metadata": {},
   "outputs": [],
   "source": [
    "idf_score = fn.idf(df,dictionary,frequency_of_words)"
   ]
  },
  {
   "cell_type": "markdown",
   "metadata": {},
   "source": [
    "#### The next two cells were runned just one time at the beginning"
   ]
  },
  {
   "cell_type": "code",
   "execution_count": 43,
   "metadata": {},
   "outputs": [],
   "source": [
    "tf_idf_scores = fn.tf_idf_score(df,dictionary,tf_score,idf_score)"
   ]
  },
  {
   "cell_type": "code",
   "execution_count": 44,
   "metadata": {},
   "outputs": [],
   "source": [
    "save_dict(tf_idf_scores,'tf_idf_scores')    #to save"
   ]
  },
  {
   "cell_type": "markdown",
   "metadata": {},
   "source": [
    "#### Everytime that we restart the notebook we just need to load the file that we have already created, using the command below:"
   ]
  },
  {
   "cell_type": "code",
   "execution_count": 19,
   "metadata": {},
   "outputs": [],
   "source": [
    "tf_idf_scores = load_obj('tf_idf_scores')   #to load"
   ]
  },
  {
   "cell_type": "code",
   "execution_count": 20,
   "metadata": {},
   "outputs": [
    {
     "data": {
      "text/plain": [
       "1"
      ]
     },
     "execution_count": 20,
     "metadata": {},
     "output_type": "execute_result"
    }
   ],
   "source": [
    "frequency_of_words[463]['upcom']"
   ]
  },
  {
   "cell_type": "markdown",
   "metadata": {},
   "source": [
    "## Step 2: from list of words calculate inverted index "
   ]
  },
  {
   "cell_type": "markdown",
   "metadata": {},
   "source": [
    "#### The next two cells were runned just one time at the beginning"
   ]
  },
  {
   "cell_type": "code",
   "execution_count": 53,
   "metadata": {},
   "outputs": [],
   "source": [
    "inverted_index_2 = fn.inverted_index2(df,dictionary,tf_idf_scores,frequency_of_words)"
   ]
  },
  {
   "cell_type": "code",
   "execution_count": 54,
   "metadata": {},
   "outputs": [],
   "source": [
    "save_dict(inverted_index_2,'inverted_index_2')    #to save"
   ]
  },
  {
   "cell_type": "markdown",
   "metadata": {},
   "source": [
    "#### Everytime that we restart the notebook we just need to load the file that we have already created, using the command below:"
   ]
  },
  {
   "cell_type": "code",
   "execution_count": 21,
   "metadata": {},
   "outputs": [],
   "source": [
    "inverted_index_2 = load_obj('inverted_index_2')   #to load"
   ]
  },
  {
   "cell_type": "markdown",
   "metadata": {},
   "source": [
    "## Step 3: calculate cosine similarity"
   ]
  },
  {
   "cell_type": "markdown",
   "metadata": {},
   "source": [
    "Let's now talk about **cosine similarity**:\n",
    "this is just a metric used to measure how similar the documents regardless their size. Geometrically speaking this consists of measuring the cosine of the angle between two vectors (where the vector corresponds to a word in the document). The formula to use is the following: $\\textrm{cos}(\\hat{\\theta}) = \\textrm{cos}(\\vec{x},\\vec{y}) = \\frac{\\vec{x}\\cdot\\vec{y}}{||\\vec{x}||\\cdot||\\vec{y}||}=\\frac{\\sum_{i=1}^{m} x_i\\cdot y_i}{||\\vec{x}||\\cdot||\\vec{y}||}$\n",
    "\n",
    "\n",
    "\n",
    "In our specific case the final formula will be the following:\n",
    " $\\textrm{score} (\\vec{q},\\vec{d_i}) = \\frac{1}{||\\vec{q}||}\\cdot \\frac{1}{||\\vec{d_i}||} \\cdot \\sum_{j=1}^{m} \\vec{q_j}\\vec{d_j^i}$\n",
    " \n"
   ]
  },
  {
   "cell_type": "code",
   "execution_count": 22,
   "metadata": {},
   "outputs": [],
   "source": [
    "cosine_similarity_score = fn.cosine_similarity(query,df,tf_idf_scores)"
   ]
  },
  {
   "cell_type": "markdown",
   "metadata": {},
   "source": [
    "### SEARCH ENGINE 2"
   ]
  },
  {
   "cell_type": "markdown",
   "metadata": {},
   "source": [
    "We are now read to build our second search engine. First, we need in input a query from the user:"
   ]
  },
  {
   "cell_type": "code",
   "execution_count": 28,
   "metadata": {
    "scrolled": true
   },
   "outputs": [
    {
     "name": "stdout",
     "output_type": "stream",
     "text": [
      "survival games\n"
     ]
    }
   ],
   "source": [
    "query = input()"
   ]
  },
  {
   "cell_type": "markdown",
   "metadata": {},
   "source": [
    "Then, we want to pre-process the query so that it can be found in the inverted index"
   ]
  },
  {
   "cell_type": "code",
   "execution_count": 29,
   "metadata": {
    "scrolled": true
   },
   "outputs": [
    {
     "data": {
      "text/plain": [
       "['surviv', 'game']"
      ]
     },
     "execution_count": 29,
     "metadata": {},
     "output_type": "execute_result"
    }
   ],
   "source": [
    "query = fn.query_processed(query)\n",
    "query"
   ]
  },
  {
   "cell_type": "markdown",
   "metadata": {},
   "source": [
    "<p>&nbsp;</p>\n",
    "\n",
    "Finally, we can look at the output we want, sorted in decreasing order based on the book's cosine similarity score:"
   ]
  },
  {
   "cell_type": "code",
   "execution_count": 23,
   "metadata": {},
   "outputs": [],
   "source": [
    "output2 = fn.search_engine2(df,query,inverted_index_1,dictionary,cosine_similarity_score)"
   ]
  },
  {
   "cell_type": "code",
   "execution_count": 27,
   "metadata": {},
   "outputs": [
    {
     "data": {
      "text/html": [
       "<div>\n",
       "<style scoped>\n",
       "    .dataframe tbody tr th:only-of-type {\n",
       "        vertical-align: middle;\n",
       "    }\n",
       "\n",
       "    .dataframe tbody tr th {\n",
       "        vertical-align: top;\n",
       "    }\n",
       "\n",
       "    .dataframe thead th {\n",
       "        text-align: right;\n",
       "    }\n",
       "</style>\n",
       "<table border=\"1\" class=\"dataframe\">\n",
       "  <thead>\n",
       "    <tr style=\"text-align: right;\">\n",
       "      <th></th>\n",
       "      <th>bookTitle</th>\n",
       "      <th>plot</th>\n",
       "      <th>url</th>\n",
       "      <th>Similarity</th>\n",
       "    </tr>\n",
       "  </thead>\n",
       "  <tbody>\n",
       "    <tr>\n",
       "      <th>83</th>\n",
       "      <td>The Warden</td>\n",
       "      <td>Alice has led a normal life up until now. She ...</td>\n",
       "      <td>https://www.goodreads.com/work/best_book/54520...</td>\n",
       "      <td>0.5093</td>\n",
       "    </tr>\n",
       "    <tr>\n",
       "      <th>120</th>\n",
       "      <td>Devil's Own</td>\n",
       "      <td>After surviving slavery, Aiden MacAlpin has no...</td>\n",
       "      <td>https://www.goodreads.com/work/best_book/13578...</td>\n",
       "      <td>0.3972</td>\n",
       "    </tr>\n",
       "    <tr>\n",
       "      <th>38</th>\n",
       "      <td>The Quillan Games</td>\n",
       "      <td>LET THE GAMES BEGIN....Quillan is a territory ...</td>\n",
       "      <td>https://www.goodreads.com/work/best_book/73848...</td>\n",
       "      <td>0.3652</td>\n",
       "    </tr>\n",
       "    <tr>\n",
       "      <th>0</th>\n",
       "      <td>The Hunger Games</td>\n",
       "      <td>Could you survive on your own in the wild, wit...</td>\n",
       "      <td>https://www.goodreads.com/work/best_book/27927...</td>\n",
       "      <td>0.3248</td>\n",
       "    </tr>\n",
       "    <tr>\n",
       "      <th>4</th>\n",
       "      <td>A Child Called \"It\"</td>\n",
       "      <td>Also see: Alternate Cover Editions for this IS...</td>\n",
       "      <td>https://www.goodreads.com/work/best_book/59104...</td>\n",
       "      <td>0.2849</td>\n",
       "    </tr>\n",
       "    <tr>\n",
       "      <th>37</th>\n",
       "      <td>Truth</td>\n",
       "      <td>From New York Times and USA Today bestselling ...</td>\n",
       "      <td>https://www.goodreads.com/work/best_book/21863...</td>\n",
       "      <td>0.2749</td>\n",
       "    </tr>\n",
       "    <tr>\n",
       "      <th>58</th>\n",
       "      <td>The Books of the South</td>\n",
       "      <td>Marching south after the ghastly battle at the...</td>\n",
       "      <td>https://www.goodreads.com/work/best_book/23725...</td>\n",
       "      <td>0.2556</td>\n",
       "    </tr>\n",
       "    <tr>\n",
       "      <th>50</th>\n",
       "      <td>Cage of Darkness</td>\n",
       "      <td>While traveling to Fren, Allyssa and Odar are ...</td>\n",
       "      <td>https://www.goodreads.com/work/best_book/43296...</td>\n",
       "      <td>0.2343</td>\n",
       "    </tr>\n",
       "    <tr>\n",
       "      <th>102</th>\n",
       "      <td>Blood Awakening</td>\n",
       "      <td>A dangerous game of life, blood, and survival…...</td>\n",
       "      <td>https://www.goodreads.com/work/best_book/15950...</td>\n",
       "      <td>0.2266</td>\n",
       "    </tr>\n",
       "    <tr>\n",
       "      <th>26</th>\n",
       "      <td>The Calling</td>\n",
       "      <td>Twelve thousand years ago, they came. They des...</td>\n",
       "      <td>https://www.goodreads.com/work/best_book/35441...</td>\n",
       "      <td>0.2257</td>\n",
       "    </tr>\n",
       "  </tbody>\n",
       "</table>\n",
       "</div>"
      ],
      "text/plain": [
       "                  bookTitle  \\\n",
       "83               The Warden   \n",
       "120             Devil's Own   \n",
       "38        The Quillan Games   \n",
       "0          The Hunger Games   \n",
       "4       A Child Called \"It\"   \n",
       "37                    Truth   \n",
       "58   The Books of the South   \n",
       "50         Cage of Darkness   \n",
       "102         Blood Awakening   \n",
       "26              The Calling   \n",
       "\n",
       "                                                  plot  \\\n",
       "83   Alice has led a normal life up until now. She ...   \n",
       "120  After surviving slavery, Aiden MacAlpin has no...   \n",
       "38   LET THE GAMES BEGIN....Quillan is a territory ...   \n",
       "0    Could you survive on your own in the wild, wit...   \n",
       "4    Also see: Alternate Cover Editions for this IS...   \n",
       "37   From New York Times and USA Today bestselling ...   \n",
       "58   Marching south after the ghastly battle at the...   \n",
       "50   While traveling to Fren, Allyssa and Odar are ...   \n",
       "102  A dangerous game of life, blood, and survival…...   \n",
       "26   Twelve thousand years ago, they came. They des...   \n",
       "\n",
       "                                                   url  Similarity  \n",
       "83   https://www.goodreads.com/work/best_book/54520...      0.5093  \n",
       "120  https://www.goodreads.com/work/best_book/13578...      0.3972  \n",
       "38   https://www.goodreads.com/work/best_book/73848...      0.3652  \n",
       "0    https://www.goodreads.com/work/best_book/27927...      0.3248  \n",
       "4    https://www.goodreads.com/work/best_book/59104...      0.2849  \n",
       "37   https://www.goodreads.com/work/best_book/21863...      0.2749  \n",
       "58   https://www.goodreads.com/work/best_book/23725...      0.2556  \n",
       "50   https://www.goodreads.com/work/best_book/43296...      0.2343  \n",
       "102  https://www.goodreads.com/work/best_book/15950...      0.2266  \n",
       "26   https://www.goodreads.com/work/best_book/35441...      0.2257  "
      ]
     },
     "execution_count": 27,
     "metadata": {},
     "output_type": "execute_result"
    }
   ],
   "source": [
    "output2"
   ]
  }
 ],
 "metadata": {
  "kernelspec": {
   "display_name": "Python 3",
   "language": "python",
   "name": "python3"
  },
  "language_info": {
   "codemirror_mode": {
    "name": "ipython",
    "version": 3
   },
   "file_extension": ".py",
   "mimetype": "text/x-python",
   "name": "python",
   "nbconvert_exporter": "python",
   "pygments_lexer": "ipython3",
   "version": "3.8.3"
  }
 },
 "nbformat": 4,
 "nbformat_minor": 4
}
