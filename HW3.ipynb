{
 "cells": [
  {
   "cell_type": "code",
   "execution_count": 1,
   "metadata": {},
   "outputs": [],
   "source": [
    "import pandas as pd\n",
    "import functions as fn\n",
    "import pickle"
   ]
  },
  {
   "cell_type": "markdown",
   "metadata": {},
   "source": [
    "## Load Data into Data Frame and Save it"
   ]
  },
  {
   "cell_type": "markdown",
   "metadata": {},
   "source": [
    "#### EXECUTED JUST ONCE AT THE BEGINNING"
   ]
  },
  {
   "cell_type": "code",
   "execution_count": 2,
   "metadata": {
    "scrolled": true
   },
   "outputs": [],
   "source": [
    "df = fn.create_dataframe()"
   ]
  },
  {
   "cell_type": "code",
   "execution_count": null,
   "metadata": {},
   "outputs": [],
   "source": [
    "df = df.drop_duplicates(subset='url')"
   ]
  },
  {
   "cell_type": "markdown",
   "metadata": {},
   "source": [
    "This function below saves the dataframe we have created into one csv file, so that we can just import it instead of recreating it every time."
   ]
  },
  {
   "cell_type": "code",
   "execution_count": 5,
   "metadata": {},
   "outputs": [],
   "source": [
    "df.to_csv(r'./data.csv', index = False)    "
   ]
  },
  {
   "cell_type": "markdown",
   "metadata": {},
   "source": [
    "#### READ ONLY THE COLUMNS THAT WE NEED IN THE DATAFRAME CREATED"
   ]
  },
  {
   "cell_type": "code",
   "execution_count": 6,
   "metadata": {},
   "outputs": [],
   "source": [
    "df = pd.read_csv(\"./data.csv\", usecols= ['bookTitle','plot','url'])    #to read"
   ]
  },
  {
   "cell_type": "markdown",
   "metadata": {},
   "source": [
    "This time we are only importing the columns that we will need in our analysis to make the process smoother and faster"
   ]
  },
  {
   "cell_type": "code",
   "execution_count": 7,
   "metadata": {
    "scrolled": false
   },
   "outputs": [
    {
     "data": {
      "text/html": [
       "<div>\n",
       "<style scoped>\n",
       "    .dataframe tbody tr th:only-of-type {\n",
       "        vertical-align: middle;\n",
       "    }\n",
       "\n",
       "    .dataframe tbody tr th {\n",
       "        vertical-align: top;\n",
       "    }\n",
       "\n",
       "    .dataframe thead th {\n",
       "        text-align: right;\n",
       "    }\n",
       "</style>\n",
       "<table border=\"1\" class=\"dataframe\">\n",
       "  <thead>\n",
       "    <tr style=\"text-align: right;\">\n",
       "      <th></th>\n",
       "      <th>bookTitle</th>\n",
       "      <th>plot</th>\n",
       "      <th>url</th>\n",
       "    </tr>\n",
       "  </thead>\n",
       "  <tbody>\n",
       "    <tr>\n",
       "      <th>0</th>\n",
       "      <td>The Hunger Games</td>\n",
       "      <td>Could you survive on your own in the wild, wit...</td>\n",
       "      <td>https://www.goodreads.com/work/best_book/27927...</td>\n",
       "    </tr>\n",
       "    <tr>\n",
       "      <th>1</th>\n",
       "      <td>Harry Potter and the Order of the Phoenix</td>\n",
       "      <td>There is a door at the end of a silent corrido...</td>\n",
       "      <td>https://www.goodreads.com/work/best_book/28092...</td>\n",
       "    </tr>\n",
       "    <tr>\n",
       "      <th>2</th>\n",
       "      <td>To Kill a Mockingbird</td>\n",
       "      <td>The unforgettable novel of a childhood in a sl...</td>\n",
       "      <td>https://www.goodreads.com/work/best_book/32757...</td>\n",
       "    </tr>\n",
       "    <tr>\n",
       "      <th>3</th>\n",
       "      <td>Pride and Prejudice</td>\n",
       "      <td>Alternate cover edition of ISBN 9780679783268S...</td>\n",
       "      <td>https://www.goodreads.com/work/best_book/30609...</td>\n",
       "    </tr>\n",
       "    <tr>\n",
       "      <th>4</th>\n",
       "      <td>Twilight</td>\n",
       "      <td>About three things I was absolutely positive.F...</td>\n",
       "      <td>https://www.goodreads.com/work/best_book/32122...</td>\n",
       "    </tr>\n",
       "    <tr>\n",
       "      <th>...</th>\n",
       "      <td>...</td>\n",
       "      <td>...</td>\n",
       "      <td>...</td>\n",
       "    </tr>\n",
       "    <tr>\n",
       "      <th>27057</th>\n",
       "      <td>Chicken Soup for the Soul: From Lemons to Lemo...</td>\n",
       "      <td>From lemons to lemonade; from heartbreak to ha...</td>\n",
       "      <td>https://www.goodreads.com/work/best_book/21955...</td>\n",
       "    </tr>\n",
       "    <tr>\n",
       "      <th>27058</th>\n",
       "      <td>The Lucy Variations</td>\n",
       "      <td>Lucy Beck-Moreau once had a promising future a...</td>\n",
       "      <td>https://www.goodreads.com/work/best_book/16774...</td>\n",
       "    </tr>\n",
       "    <tr>\n",
       "      <th>27059</th>\n",
       "      <td>Look to See Me: A Collection of Reflections</td>\n",
       "      <td>NaN</td>\n",
       "      <td>https://www.goodreads.com/book/show/11457776-l...</td>\n",
       "    </tr>\n",
       "    <tr>\n",
       "      <th>27060</th>\n",
       "      <td>The Silver Wolf</td>\n",
       "      <td>Regeane is a fatherless royal relation who hap...</td>\n",
       "      <td>https://www.goodreads.com/work/best_book/25070...</td>\n",
       "    </tr>\n",
       "    <tr>\n",
       "      <th>27061</th>\n",
       "      <td>Barefoot in Baghdad: A Story of Identity-My Ow...</td>\n",
       "      <td>Walk barefoot and the thorns will hurt you… —I...</td>\n",
       "      <td>https://www.goodreads.com/work/best_book/13485...</td>\n",
       "    </tr>\n",
       "  </tbody>\n",
       "</table>\n",
       "<p>27062 rows × 3 columns</p>\n",
       "</div>"
      ],
      "text/plain": [
       "                                               bookTitle  \\\n",
       "0                                       The Hunger Games   \n",
       "1              Harry Potter and the Order of the Phoenix   \n",
       "2                                  To Kill a Mockingbird   \n",
       "3                                    Pride and Prejudice   \n",
       "4                                               Twilight   \n",
       "...                                                  ...   \n",
       "27057  Chicken Soup for the Soul: From Lemons to Lemo...   \n",
       "27058                                The Lucy Variations   \n",
       "27059        Look to See Me: A Collection of Reflections   \n",
       "27060                                    The Silver Wolf   \n",
       "27061  Barefoot in Baghdad: A Story of Identity-My Ow...   \n",
       "\n",
       "                                                    plot  \\\n",
       "0      Could you survive on your own in the wild, wit...   \n",
       "1      There is a door at the end of a silent corrido...   \n",
       "2      The unforgettable novel of a childhood in a sl...   \n",
       "3      Alternate cover edition of ISBN 9780679783268S...   \n",
       "4      About three things I was absolutely positive.F...   \n",
       "...                                                  ...   \n",
       "27057  From lemons to lemonade; from heartbreak to ha...   \n",
       "27058  Lucy Beck-Moreau once had a promising future a...   \n",
       "27059                                                NaN   \n",
       "27060  Regeane is a fatherless royal relation who hap...   \n",
       "27061  Walk barefoot and the thorns will hurt you… —I...   \n",
       "\n",
       "                                                     url  \n",
       "0      https://www.goodreads.com/work/best_book/27927...  \n",
       "1      https://www.goodreads.com/work/best_book/28092...  \n",
       "2      https://www.goodreads.com/work/best_book/32757...  \n",
       "3      https://www.goodreads.com/work/best_book/30609...  \n",
       "4      https://www.goodreads.com/work/best_book/32122...  \n",
       "...                                                  ...  \n",
       "27057  https://www.goodreads.com/work/best_book/21955...  \n",
       "27058  https://www.goodreads.com/work/best_book/16774...  \n",
       "27059  https://www.goodreads.com/book/show/11457776-l...  \n",
       "27060  https://www.goodreads.com/work/best_book/25070...  \n",
       "27061  https://www.goodreads.com/work/best_book/13485...  \n",
       "\n",
       "[27062 rows x 3 columns]"
      ]
     },
     "execution_count": 7,
     "metadata": {},
     "output_type": "execute_result"
    }
   ],
   "source": [
    "df"
   ]
  },
  {
   "cell_type": "markdown",
   "metadata": {},
   "source": [
    "#### Before starting we want to define some useful functions that we will use to save dictionaries into pickle files and load them back every time we might need them"
   ]
  },
  {
   "cell_type": "code",
   "execution_count": 8,
   "metadata": {},
   "outputs": [],
   "source": [
    "#Useful functions to save and load files in pickle format\n",
    "def save_dict(obj, name ):\n",
    "    with open(f'{name}.pickle', 'wb') as f:\n",
    "        pickle.dump(obj, f)\n",
    "\n",
    "def load_obj(name ):\n",
    "    with open(f'{name}.pickle', 'rb') as f:\n",
    "        return pickle.load(f)"
   ]
  },
  {
   "cell_type": "markdown",
   "metadata": {},
   "source": [
    "# Q2. Search Engine\n",
    "## 2.1. Conjunctive query\n",
    "In this firts version of the search engine we just want to evaluate conjuctive queries (AND) with respect of only the **plot** of the books"
   ]
  },
  {
   "cell_type": "markdown",
   "metadata": {},
   "source": [
    "### Examine Null Values"
   ]
  },
  {
   "cell_type": "code",
   "execution_count": 9,
   "metadata": {
    "scrolled": true
   },
   "outputs": [
    {
     "data": {
      "text/plain": [
       "582"
      ]
     },
     "execution_count": 9,
     "metadata": {},
     "output_type": "execute_result"
    }
   ],
   "source": [
    "df['plot'].isnull().sum()"
   ]
  },
  {
   "cell_type": "markdown",
   "metadata": {},
   "source": [
    "#### substitute nulla values in the plot with a string"
   ]
  },
  {
   "cell_type": "code",
   "execution_count": 10,
   "metadata": {
    "scrolled": true
   },
   "outputs": [],
   "source": [
    "df['plot'].fillna('unknown',inplace = True)"
   ]
  },
  {
   "cell_type": "code",
   "execution_count": 11,
   "metadata": {},
   "outputs": [
    {
     "data": {
      "text/plain": [
       "0"
      ]
     },
     "execution_count": 11,
     "metadata": {},
     "output_type": "execute_result"
    }
   ],
   "source": [
    "df['plot'].isnull().sum()"
   ]
  },
  {
   "cell_type": "markdown",
   "metadata": {},
   "source": [
    "The first thing to do, when building a search engine is creating a **vocabulary**. We will first look at all the unique words into the plot of each book and create a list of them, then, from this list, we will map each word to an integer, that we will call **term_id** and will be useful in the future creation of the **inverted index**."
   ]
  },
  {
   "cell_type": "markdown",
   "metadata": {},
   "source": [
    "#### The next two cells were runned just one time at the beginning"
   ]
  },
  {
   "cell_type": "code",
   "execution_count": 12,
   "metadata": {},
   "outputs": [],
   "source": [
    "dictionary = fn.build_dictionary(df)"
   ]
  },
  {
   "cell_type": "code",
   "execution_count": 13,
   "metadata": {},
   "outputs": [],
   "source": [
    "save_dict(dictionary,'vocabulary')   #to save"
   ]
  },
  {
   "cell_type": "markdown",
   "metadata": {},
   "source": [
    "#### Everytime that we restart the kernel we just need to load the file that we have already created, using the command below:"
   ]
  },
  {
   "cell_type": "code",
   "execution_count": 14,
   "metadata": {},
   "outputs": [],
   "source": [
    "dictionary = load_obj('vocabulary')  #to load"
   ]
  },
  {
   "cell_type": "markdown",
   "metadata": {},
   "source": [
    "Now, before calculating the inverted index we will determine, for each document, the frequency of each word in the document:"
   ]
  },
  {
   "cell_type": "code",
   "execution_count": 15,
   "metadata": {},
   "outputs": [],
   "source": [
    "frequency_of_words = fn.frequency_of_words_per_book(df,dictionary)"
   ]
  },
  {
   "cell_type": "markdown",
   "metadata": {},
   "source": [
    "We now have all the tools needed to create our first **inverted index**: we will run the cell below just one time and store the inverted index in a pickle file so that we can recall it every time we need it."
   ]
  },
  {
   "cell_type": "markdown",
   "metadata": {},
   "source": [
    "#### The next two cells were runned just one time at the beginning"
   ]
  },
  {
   "cell_type": "code",
   "execution_count": 16,
   "metadata": {},
   "outputs": [],
   "source": [
    "inverted_index_1 = fn.inverted_index1(df,dictionary,frequency_of_words)"
   ]
  },
  {
   "cell_type": "code",
   "execution_count": 17,
   "metadata": {},
   "outputs": [],
   "source": [
    "save_dict(inverted_index_1,'inverted_index_1')    #to save"
   ]
  },
  {
   "cell_type": "markdown",
   "metadata": {},
   "source": [
    "#### Everytime that we restart the kernel we just need to load the file that we have already created, using the command below:"
   ]
  },
  {
   "cell_type": "code",
   "execution_count": 18,
   "metadata": {},
   "outputs": [],
   "source": [
    "inverted_index_1 = load_obj('inverted_index_1')   #to load"
   ]
  },
  {
   "cell_type": "markdown",
   "metadata": {},
   "source": [
    "Let's now give in input a query:"
   ]
  },
  {
   "cell_type": "code",
   "execution_count": 19,
   "metadata": {},
   "outputs": [
    {
     "name": "stdout",
     "output_type": "stream",
     "text": [
      "survival games\n"
     ]
    }
   ],
   "source": [
    "query = input()"
   ]
  },
  {
   "cell_type": "markdown",
   "metadata": {},
   "source": [
    "We have to pre-process the query as well if we want to recall it inside our inverted index"
   ]
  },
  {
   "cell_type": "code",
   "execution_count": 20,
   "metadata": {},
   "outputs": [
    {
     "data": {
      "text/plain": [
       "['surviv', 'game']"
      ]
     },
     "execution_count": 20,
     "metadata": {},
     "output_type": "execute_result"
    }
   ],
   "source": [
    "query = fn.query_processed(query)\n",
    "query"
   ]
  },
  {
   "cell_type": "markdown",
   "metadata": {},
   "source": [
    "### SEARCH ENGINE 1"
   ]
  },
  {
   "cell_type": "markdown",
   "metadata": {},
   "source": [
    "Now we have **everything** so we can implement our very first **search engine**"
   ]
  },
  {
   "cell_type": "code",
   "execution_count": 21,
   "metadata": {
    "scrolled": false
   },
   "outputs": [],
   "source": [
    "output = fn.search_engine1(query,df,inverted_index_1,dictionary)"
   ]
  },
  {
   "cell_type": "code",
   "execution_count": 22,
   "metadata": {},
   "outputs": [
    {
     "data": {
      "text/html": [
       "<div>\n",
       "<style scoped>\n",
       "    .dataframe tbody tr th:only-of-type {\n",
       "        vertical-align: middle;\n",
       "    }\n",
       "\n",
       "    .dataframe tbody tr th {\n",
       "        vertical-align: top;\n",
       "    }\n",
       "\n",
       "    .dataframe thead th {\n",
       "        text-align: right;\n",
       "    }\n",
       "</style>\n",
       "<table border=\"1\" class=\"dataframe\">\n",
       "  <thead>\n",
       "    <tr style=\"text-align: right;\">\n",
       "      <th></th>\n",
       "      <th>bookTitle</th>\n",
       "      <th>plot</th>\n",
       "      <th>url</th>\n",
       "    </tr>\n",
       "  </thead>\n",
       "  <tbody>\n",
       "    <tr>\n",
       "      <th>0</th>\n",
       "      <td>The Hunger Games</td>\n",
       "      <td>Could you survive on your own in the wild, wit...</td>\n",
       "      <td>https://www.goodreads.com/work/best_book/27927...</td>\n",
       "    </tr>\n",
       "    <tr>\n",
       "      <th>1</th>\n",
       "      <td>Catching Fire</td>\n",
       "      <td>SPARKS ARE IGNITING.FLAMES ARE SPREADING.AND T...</td>\n",
       "      <td>https://www.goodreads.com/work/best_book/61714...</td>\n",
       "    </tr>\n",
       "    <tr>\n",
       "      <th>2</th>\n",
       "      <td>Mockingjay</td>\n",
       "      <td>The final book in the ground-breaking HUNGER G...</td>\n",
       "      <td>https://www.goodreads.com/work/best_book/88127...</td>\n",
       "    </tr>\n",
       "    <tr>\n",
       "      <th>3</th>\n",
       "      <td>Legend</td>\n",
       "      <td>What was once the western United States is now...</td>\n",
       "      <td>https://www.goodreads.com/work/best_book/14157...</td>\n",
       "    </tr>\n",
       "    <tr>\n",
       "      <th>4</th>\n",
       "      <td>A Child Called \"It\"</td>\n",
       "      <td>Also see: Alternate Cover Editions for this IS...</td>\n",
       "      <td>https://www.goodreads.com/work/best_book/59104...</td>\n",
       "    </tr>\n",
       "    <tr>\n",
       "      <th>5</th>\n",
       "      <td>The Magus</td>\n",
       "      <td>This daring literary thriller, rich with eroti...</td>\n",
       "      <td>https://www.goodreads.com/work/best_book/18164...</td>\n",
       "    </tr>\n",
       "    <tr>\n",
       "      <th>6</th>\n",
       "      <td>Ender's Shadow</td>\n",
       "      <td>Welcome to Battleschool.Growing up is never ea...</td>\n",
       "      <td>https://www.goodreads.com/work/best_book/31455...</td>\n",
       "    </tr>\n",
       "    <tr>\n",
       "      <th>7</th>\n",
       "      <td>The Lucky One</td>\n",
       "      <td>When U.S. Marine Logan Thibault finds a photog...</td>\n",
       "      <td>https://www.goodreads.com/work/best_book/30944...</td>\n",
       "    </tr>\n",
       "    <tr>\n",
       "      <th>8</th>\n",
       "      <td>Sliding on the Snow Stone</td>\n",
       "      <td>It is astonishing that anyone lived this story...</td>\n",
       "      <td>https://www.goodreads.com/work/best_book/18004...</td>\n",
       "    </tr>\n",
       "    <tr>\n",
       "      <th>9</th>\n",
       "      <td>Code Name Verity</td>\n",
       "      <td>Oct. 11th, 1943 - A British spy plane crashes ...</td>\n",
       "      <td>https://www.goodreads.com/work/best_book/16885...</td>\n",
       "    </tr>\n",
       "  </tbody>\n",
       "</table>\n",
       "</div>"
      ],
      "text/plain": [
       "                   bookTitle  \\\n",
       "0           The Hunger Games   \n",
       "1              Catching Fire   \n",
       "2                 Mockingjay   \n",
       "3                     Legend   \n",
       "4        A Child Called \"It\"   \n",
       "5                  The Magus   \n",
       "6             Ender's Shadow   \n",
       "7              The Lucky One   \n",
       "8  Sliding on the Snow Stone   \n",
       "9           Code Name Verity   \n",
       "\n",
       "                                                plot  \\\n",
       "0  Could you survive on your own in the wild, wit...   \n",
       "1  SPARKS ARE IGNITING.FLAMES ARE SPREADING.AND T...   \n",
       "2  The final book in the ground-breaking HUNGER G...   \n",
       "3  What was once the western United States is now...   \n",
       "4  Also see: Alternate Cover Editions for this IS...   \n",
       "5  This daring literary thriller, rich with eroti...   \n",
       "6  Welcome to Battleschool.Growing up is never ea...   \n",
       "7  When U.S. Marine Logan Thibault finds a photog...   \n",
       "8  It is astonishing that anyone lived this story...   \n",
       "9  Oct. 11th, 1943 - A British spy plane crashes ...   \n",
       "\n",
       "                                                 url  \n",
       "0  https://www.goodreads.com/work/best_book/27927...  \n",
       "1  https://www.goodreads.com/work/best_book/61714...  \n",
       "2  https://www.goodreads.com/work/best_book/88127...  \n",
       "3  https://www.goodreads.com/work/best_book/14157...  \n",
       "4  https://www.goodreads.com/work/best_book/59104...  \n",
       "5  https://www.goodreads.com/work/best_book/18164...  \n",
       "6  https://www.goodreads.com/work/best_book/31455...  \n",
       "7  https://www.goodreads.com/work/best_book/30944...  \n",
       "8  https://www.goodreads.com/work/best_book/18004...  \n",
       "9  https://www.goodreads.com/work/best_book/16885...  "
      ]
     },
     "execution_count": 22,
     "metadata": {},
     "output_type": "execute_result"
    }
   ],
   "source": [
    "output.head(10)"
   ]
  },
  {
   "cell_type": "markdown",
   "metadata": {},
   "source": [
    "## 2.2 Conjunctive query & Ranking score\n",
    "### For the second search engine, given a query, we want to get the top-k documents related to the query. In particular:\n",
    "- Find all the documents that contains all the words in the query.\n",
    "- Sort them by their similarity with the query\n",
    "- Return in output k documents, or all the documents with non-zero similarity with the query when the results are less than k. "
   ]
  },
  {
   "cell_type": "code",
   "execution_count": 23,
   "metadata": {},
   "outputs": [
    {
     "data": {
      "text/html": [
       "<div>\n",
       "<style scoped>\n",
       "    .dataframe tbody tr th:only-of-type {\n",
       "        vertical-align: middle;\n",
       "    }\n",
       "\n",
       "    .dataframe tbody tr th {\n",
       "        vertical-align: top;\n",
       "    }\n",
       "\n",
       "    .dataframe thead th {\n",
       "        text-align: right;\n",
       "    }\n",
       "</style>\n",
       "<table border=\"1\" class=\"dataframe\">\n",
       "  <thead>\n",
       "    <tr style=\"text-align: right;\">\n",
       "      <th></th>\n",
       "      <th>bookTitle</th>\n",
       "      <th>plot</th>\n",
       "      <th>url</th>\n",
       "    </tr>\n",
       "  </thead>\n",
       "  <tbody>\n",
       "    <tr>\n",
       "      <th>0</th>\n",
       "      <td>The Hunger Games</td>\n",
       "      <td>Could you survive on your own in the wild, wit...</td>\n",
       "      <td>https://www.goodreads.com/work/best_book/27927...</td>\n",
       "    </tr>\n",
       "    <tr>\n",
       "      <th>1</th>\n",
       "      <td>Harry Potter and the Order of the Phoenix</td>\n",
       "      <td>There is a door at the end of a silent corrido...</td>\n",
       "      <td>https://www.goodreads.com/work/best_book/28092...</td>\n",
       "    </tr>\n",
       "    <tr>\n",
       "      <th>2</th>\n",
       "      <td>To Kill a Mockingbird</td>\n",
       "      <td>The unforgettable novel of a childhood in a sl...</td>\n",
       "      <td>https://www.goodreads.com/work/best_book/32757...</td>\n",
       "    </tr>\n",
       "    <tr>\n",
       "      <th>3</th>\n",
       "      <td>Pride and Prejudice</td>\n",
       "      <td>Alternate cover edition of ISBN 9780679783268S...</td>\n",
       "      <td>https://www.goodreads.com/work/best_book/30609...</td>\n",
       "    </tr>\n",
       "    <tr>\n",
       "      <th>4</th>\n",
       "      <td>Twilight</td>\n",
       "      <td>About three things I was absolutely positive.F...</td>\n",
       "      <td>https://www.goodreads.com/work/best_book/32122...</td>\n",
       "    </tr>\n",
       "    <tr>\n",
       "      <th>...</th>\n",
       "      <td>...</td>\n",
       "      <td>...</td>\n",
       "      <td>...</td>\n",
       "    </tr>\n",
       "    <tr>\n",
       "      <th>27057</th>\n",
       "      <td>Chicken Soup for the Soul: From Lemons to Lemo...</td>\n",
       "      <td>From lemons to lemonade; from heartbreak to ha...</td>\n",
       "      <td>https://www.goodreads.com/work/best_book/21955...</td>\n",
       "    </tr>\n",
       "    <tr>\n",
       "      <th>27058</th>\n",
       "      <td>The Lucy Variations</td>\n",
       "      <td>Lucy Beck-Moreau once had a promising future a...</td>\n",
       "      <td>https://www.goodreads.com/work/best_book/16774...</td>\n",
       "    </tr>\n",
       "    <tr>\n",
       "      <th>27059</th>\n",
       "      <td>Look to See Me: A Collection of Reflections</td>\n",
       "      <td>unknown</td>\n",
       "      <td>https://www.goodreads.com/book/show/11457776-l...</td>\n",
       "    </tr>\n",
       "    <tr>\n",
       "      <th>27060</th>\n",
       "      <td>The Silver Wolf</td>\n",
       "      <td>Regeane is a fatherless royal relation who hap...</td>\n",
       "      <td>https://www.goodreads.com/work/best_book/25070...</td>\n",
       "    </tr>\n",
       "    <tr>\n",
       "      <th>27061</th>\n",
       "      <td>Barefoot in Baghdad: A Story of Identity-My Ow...</td>\n",
       "      <td>Walk barefoot and the thorns will hurt you… —I...</td>\n",
       "      <td>https://www.goodreads.com/work/best_book/13485...</td>\n",
       "    </tr>\n",
       "  </tbody>\n",
       "</table>\n",
       "<p>27062 rows × 3 columns</p>\n",
       "</div>"
      ],
      "text/plain": [
       "                                               bookTitle  \\\n",
       "0                                       The Hunger Games   \n",
       "1              Harry Potter and the Order of the Phoenix   \n",
       "2                                  To Kill a Mockingbird   \n",
       "3                                    Pride and Prejudice   \n",
       "4                                               Twilight   \n",
       "...                                                  ...   \n",
       "27057  Chicken Soup for the Soul: From Lemons to Lemo...   \n",
       "27058                                The Lucy Variations   \n",
       "27059        Look to See Me: A Collection of Reflections   \n",
       "27060                                    The Silver Wolf   \n",
       "27061  Barefoot in Baghdad: A Story of Identity-My Ow...   \n",
       "\n",
       "                                                    plot  \\\n",
       "0      Could you survive on your own in the wild, wit...   \n",
       "1      There is a door at the end of a silent corrido...   \n",
       "2      The unforgettable novel of a childhood in a sl...   \n",
       "3      Alternate cover edition of ISBN 9780679783268S...   \n",
       "4      About three things I was absolutely positive.F...   \n",
       "...                                                  ...   \n",
       "27057  From lemons to lemonade; from heartbreak to ha...   \n",
       "27058  Lucy Beck-Moreau once had a promising future a...   \n",
       "27059                                            unknown   \n",
       "27060  Regeane is a fatherless royal relation who hap...   \n",
       "27061  Walk barefoot and the thorns will hurt you… —I...   \n",
       "\n",
       "                                                     url  \n",
       "0      https://www.goodreads.com/work/best_book/27927...  \n",
       "1      https://www.goodreads.com/work/best_book/28092...  \n",
       "2      https://www.goodreads.com/work/best_book/32757...  \n",
       "3      https://www.goodreads.com/work/best_book/30609...  \n",
       "4      https://www.goodreads.com/work/best_book/32122...  \n",
       "...                                                  ...  \n",
       "27057  https://www.goodreads.com/work/best_book/21955...  \n",
       "27058  https://www.goodreads.com/work/best_book/16774...  \n",
       "27059  https://www.goodreads.com/book/show/11457776-l...  \n",
       "27060  https://www.goodreads.com/work/best_book/25070...  \n",
       "27061  https://www.goodreads.com/work/best_book/13485...  \n",
       "\n",
       "[27062 rows x 3 columns]"
      ]
     },
     "execution_count": 23,
     "metadata": {},
     "output_type": "execute_result"
    }
   ],
   "source": [
    "df"
   ]
  },
  {
   "cell_type": "code",
   "execution_count": 24,
   "metadata": {
    "scrolled": false
   },
   "outputs": [
    {
     "data": {
      "text/plain": [
       "bookTitle    0\n",
       "plot         0\n",
       "url          0\n",
       "dtype: int64"
      ]
     },
     "execution_count": 24,
     "metadata": {},
     "output_type": "execute_result"
    }
   ],
   "source": [
    "df.isnull().sum()"
   ]
  },
  {
   "cell_type": "markdown",
   "metadata": {},
   "source": [
    "To answer this question we first need to define the concepts of **TF-IDF score** and **cosine similarity**.\n",
    "\n",
    "**TF-IDF** stands for **Term Frequency-Inverse Document Frequency**. This tecnique is used to quantify the words inside a document by giving a weigth to each word in proportion with its importance.\n",
    "\n",
    "So, this score is given by two main components:\n",
    "- *Term Frequency*: that measures the frequency of a word in a document. It is given by: $\\textrm{tf}(t,d)=\\frac{\\textrm{count of t in d}}{\\textrm{number of words in d}}$\n",
    "\n",
    "\n",
    "- *Document Frequency*: it measures the importance of the document by counting the number of documents is which a certain word is present (at least one time): \n",
    "$\\textrm{df}(t) = \\textrm{occurrence of t in documents}$\n",
    "\n",
    "But we actually need the *Inverse Document Frequency*:\n",
    "it measures the informativeness of the term t in the document. IDF will be small if the occurence of the words is very big and viceversa:\n",
    "    $\\textrm{idf}(t) = \\frac{N}{\\textrm{df}}$\n",
    "\n",
    "There may be some problems with $IDF$, in particular in the cases where the corpus is really large, so in this case it may be convenient to take the log of it.\n",
    "Also, if a word that is not in the pre-determined vocabolary occurs, its df will be equal to $0$, but then we would have a division with 0 at the denominator, which, of course, is going to lead to an error. To solve this issue we are just going to add a 1 to the denominator. So, the final formula is: $\\textrm{idf}(t) = \\textrm{log}(\\frac{N}{\\textrm{df}+1})$\n",
    "\n",
    "Finally, the TD-IDF score is defined by:        \n",
    "\n",
    "$\\textrm{tf}-\\textrm{idf}(t,d) = \\textrm{tf}(t,d)*\\textrm{log}(\\frac{N}{\\textrm{df}+1})$\n"
   ]
  },
  {
   "cell_type": "markdown",
   "metadata": {},
   "source": [
    "## Step 1: calculate TF-IDF score"
   ]
  },
  {
   "cell_type": "code",
   "execution_count": 25,
   "metadata": {},
   "outputs": [],
   "source": [
    "tf_score = fn.tf(df,dictionary,frequency_of_words)"
   ]
  },
  {
   "cell_type": "code",
   "execution_count": 26,
   "metadata": {},
   "outputs": [],
   "source": [
    "idf_score = fn.idf(df,dictionary,frequency_of_words)"
   ]
  },
  {
   "cell_type": "markdown",
   "metadata": {},
   "source": [
    "#### The next two cells were runned just one time at the beginning"
   ]
  },
  {
   "cell_type": "code",
   "execution_count": 27,
   "metadata": {},
   "outputs": [],
   "source": [
    "tf_idf_scores = fn.tf_idf_score(df,dictionary,tf_score,idf_score)"
   ]
  },
  {
   "cell_type": "code",
   "execution_count": 28,
   "metadata": {},
   "outputs": [],
   "source": [
    "save_dict(tf_idf_scores,'tf_idf_scores')    #to save"
   ]
  },
  {
   "cell_type": "markdown",
   "metadata": {},
   "source": [
    "#### Everytime that we restart the kernel we just need to load the file that we have already created, using the command below:"
   ]
  },
  {
   "cell_type": "code",
   "execution_count": 29,
   "metadata": {},
   "outputs": [],
   "source": [
    "tf_idf_scores = load_obj('tf_idf_scores')   #to load"
   ]
  },
  {
   "cell_type": "markdown",
   "metadata": {},
   "source": [
    "## Step 2: from list of words calculate inverted index "
   ]
  },
  {
   "cell_type": "markdown",
   "metadata": {},
   "source": [
    "#### The next two cells were runned just one time at the beginning"
   ]
  },
  {
   "cell_type": "code",
   "execution_count": 30,
   "metadata": {},
   "outputs": [],
   "source": [
    "inverted_index_2 = fn.inverted_index2(df,dictionary,tf_idf_scores,frequency_of_words)"
   ]
  },
  {
   "cell_type": "code",
   "execution_count": 31,
   "metadata": {},
   "outputs": [],
   "source": [
    "save_dict(inverted_index_2,'inverted_index_2')    #to save"
   ]
  },
  {
   "cell_type": "markdown",
   "metadata": {},
   "source": [
    "#### Everytime that we restart the kernel we just need to load the file that we have already created, using the command below:"
   ]
  },
  {
   "cell_type": "code",
   "execution_count": 32,
   "metadata": {},
   "outputs": [],
   "source": [
    "inverted_index_2 = load_obj('inverted_index_2')   #to load"
   ]
  },
  {
   "cell_type": "markdown",
   "metadata": {},
   "source": [
    "## Step 3: calculate cosine similarity"
   ]
  },
  {
   "cell_type": "markdown",
   "metadata": {},
   "source": [
    "Let's now talk about **cosine similarity**:\n",
    "this is just a metric used to measure how similar the documents regardless their size. Geometrically speaking this consists of measuring the cosine of the angle between two vectors (where the vector corresponds to a word in the document). The formula to use is the following: $\\textrm{cos}(\\hat{\\theta}) = \\textrm{cos}(\\vec{x},\\vec{y}) = \\frac{\\vec{x}\\cdot\\vec{y}}{||\\vec{x}||\\cdot||\\vec{y}||}=\\frac{\\sum_{i=1}^{m} x_i\\cdot y_i}{||\\vec{x}||\\cdot||\\vec{y}||}$\n",
    "\n",
    "\n",
    "\n",
    "In our specific case the final formula will be the following:\n",
    " $\\textrm{score} (\\vec{q},\\vec{d_i}) = \\frac{1}{||\\vec{q}||}\\cdot \\frac{1}{||\\vec{d_i}||} \\cdot \\sum_{j=1}^{m} \\vec{q_j}\\vec{d_j^i}$\n",
    " \n"
   ]
  },
  {
   "cell_type": "code",
   "execution_count": 33,
   "metadata": {},
   "outputs": [],
   "source": [
    "cosine_similarity_score = fn.cosine_similarity(query,df,tf_idf_scores)"
   ]
  },
  {
   "cell_type": "markdown",
   "metadata": {},
   "source": [
    "### SEARCH ENGINE 2"
   ]
  },
  {
   "cell_type": "markdown",
   "metadata": {},
   "source": [
    "We are now read to build our second search engine. First, we need in input a query from the user:"
   ]
  },
  {
   "cell_type": "code",
   "execution_count": 34,
   "metadata": {
    "scrolled": true
   },
   "outputs": [
    {
     "name": "stdout",
     "output_type": "stream",
     "text": [
      "survival games\n"
     ]
    }
   ],
   "source": [
    "query = input()"
   ]
  },
  {
   "cell_type": "markdown",
   "metadata": {},
   "source": [
    "Then, we want to pre-process the query so that it can be found in the inverted index"
   ]
  },
  {
   "cell_type": "code",
   "execution_count": 35,
   "metadata": {
    "scrolled": true
   },
   "outputs": [
    {
     "data": {
      "text/plain": [
       "['surviv', 'game']"
      ]
     },
     "execution_count": 35,
     "metadata": {},
     "output_type": "execute_result"
    }
   ],
   "source": [
    "query = fn.query_processed(query)\n",
    "query"
   ]
  },
  {
   "cell_type": "markdown",
   "metadata": {},
   "source": [
    "<p>&nbsp;</p>\n",
    "\n",
    "Finally, we can look at the output we want, sorted in decreasing order based on the book's cosine similarity score:"
   ]
  },
  {
   "cell_type": "code",
   "execution_count": 36,
   "metadata": {},
   "outputs": [],
   "source": [
    "output2 = fn.search_engine2(df,query,inverted_index_1,dictionary,cosine_similarity_score)"
   ]
  },
  {
   "cell_type": "code",
   "execution_count": 37,
   "metadata": {
    "scrolled": false
   },
   "outputs": [
    {
     "data": {
      "text/html": [
       "<div>\n",
       "<style scoped>\n",
       "    .dataframe tbody tr th:only-of-type {\n",
       "        vertical-align: middle;\n",
       "    }\n",
       "\n",
       "    .dataframe tbody tr th {\n",
       "        vertical-align: top;\n",
       "    }\n",
       "\n",
       "    .dataframe thead th {\n",
       "        text-align: right;\n",
       "    }\n",
       "</style>\n",
       "<table border=\"1\" class=\"dataframe\">\n",
       "  <thead>\n",
       "    <tr style=\"text-align: right;\">\n",
       "      <th></th>\n",
       "      <th>bookTitle</th>\n",
       "      <th>plot</th>\n",
       "      <th>url</th>\n",
       "      <th>Similarity</th>\n",
       "    </tr>\n",
       "  </thead>\n",
       "  <tbody>\n",
       "    <tr>\n",
       "      <th>83</th>\n",
       "      <td>The Warden</td>\n",
       "      <td>Alice has led a normal life up until now. She ...</td>\n",
       "      <td>https://www.goodreads.com/work/best_book/54520...</td>\n",
       "      <td>0.5094</td>\n",
       "    </tr>\n",
       "    <tr>\n",
       "      <th>120</th>\n",
       "      <td>Devil's Own</td>\n",
       "      <td>After surviving slavery, Aiden MacAlpin has no...</td>\n",
       "      <td>https://www.goodreads.com/work/best_book/13578...</td>\n",
       "      <td>0.3973</td>\n",
       "    </tr>\n",
       "    <tr>\n",
       "      <th>38</th>\n",
       "      <td>The Quillan Games</td>\n",
       "      <td>LET THE GAMES BEGIN....Quillan is a territory ...</td>\n",
       "      <td>https://www.goodreads.com/work/best_book/73848...</td>\n",
       "      <td>0.3651</td>\n",
       "    </tr>\n",
       "    <tr>\n",
       "      <th>0</th>\n",
       "      <td>The Hunger Games</td>\n",
       "      <td>Could you survive on your own in the wild, wit...</td>\n",
       "      <td>https://www.goodreads.com/work/best_book/27927...</td>\n",
       "      <td>0.3248</td>\n",
       "    </tr>\n",
       "    <tr>\n",
       "      <th>4</th>\n",
       "      <td>A Child Called \"It\"</td>\n",
       "      <td>Also see: Alternate Cover Editions for this IS...</td>\n",
       "      <td>https://www.goodreads.com/work/best_book/59104...</td>\n",
       "      <td>0.2848</td>\n",
       "    </tr>\n",
       "    <tr>\n",
       "      <th>37</th>\n",
       "      <td>Truth</td>\n",
       "      <td>From New York Times and USA Today bestselling ...</td>\n",
       "      <td>https://www.goodreads.com/work/best_book/21863...</td>\n",
       "      <td>0.2748</td>\n",
       "    </tr>\n",
       "    <tr>\n",
       "      <th>58</th>\n",
       "      <td>The Books of the South</td>\n",
       "      <td>Marching south after the ghastly battle at the...</td>\n",
       "      <td>https://www.goodreads.com/work/best_book/23725...</td>\n",
       "      <td>0.2556</td>\n",
       "    </tr>\n",
       "    <tr>\n",
       "      <th>50</th>\n",
       "      <td>Cage of Darkness</td>\n",
       "      <td>While traveling to Fren, Allyssa and Odar are ...</td>\n",
       "      <td>https://www.goodreads.com/work/best_book/43296...</td>\n",
       "      <td>0.2343</td>\n",
       "    </tr>\n",
       "    <tr>\n",
       "      <th>102</th>\n",
       "      <td>Blood Awakening</td>\n",
       "      <td>A dangerous game of life, blood, and survival…...</td>\n",
       "      <td>https://www.goodreads.com/work/best_book/15950...</td>\n",
       "      <td>0.2267</td>\n",
       "    </tr>\n",
       "    <tr>\n",
       "      <th>26</th>\n",
       "      <td>The Calling</td>\n",
       "      <td>Twelve thousand years ago, they came. They des...</td>\n",
       "      <td>https://www.goodreads.com/work/best_book/35441...</td>\n",
       "      <td>0.2256</td>\n",
       "    </tr>\n",
       "  </tbody>\n",
       "</table>\n",
       "</div>"
      ],
      "text/plain": [
       "                  bookTitle  \\\n",
       "83               The Warden   \n",
       "120             Devil's Own   \n",
       "38        The Quillan Games   \n",
       "0          The Hunger Games   \n",
       "4       A Child Called \"It\"   \n",
       "37                    Truth   \n",
       "58   The Books of the South   \n",
       "50         Cage of Darkness   \n",
       "102         Blood Awakening   \n",
       "26              The Calling   \n",
       "\n",
       "                                                  plot  \\\n",
       "83   Alice has led a normal life up until now. She ...   \n",
       "120  After surviving slavery, Aiden MacAlpin has no...   \n",
       "38   LET THE GAMES BEGIN....Quillan is a territory ...   \n",
       "0    Could you survive on your own in the wild, wit...   \n",
       "4    Also see: Alternate Cover Editions for this IS...   \n",
       "37   From New York Times and USA Today bestselling ...   \n",
       "58   Marching south after the ghastly battle at the...   \n",
       "50   While traveling to Fren, Allyssa and Odar are ...   \n",
       "102  A dangerous game of life, blood, and survival…...   \n",
       "26   Twelve thousand years ago, they came. They des...   \n",
       "\n",
       "                                                   url  Similarity  \n",
       "83   https://www.goodreads.com/work/best_book/54520...      0.5094  \n",
       "120  https://www.goodreads.com/work/best_book/13578...      0.3973  \n",
       "38   https://www.goodreads.com/work/best_book/73848...      0.3651  \n",
       "0    https://www.goodreads.com/work/best_book/27927...      0.3248  \n",
       "4    https://www.goodreads.com/work/best_book/59104...      0.2848  \n",
       "37   https://www.goodreads.com/work/best_book/21863...      0.2748  \n",
       "58   https://www.goodreads.com/work/best_book/23725...      0.2556  \n",
       "50   https://www.goodreads.com/work/best_book/43296...      0.2343  \n",
       "102  https://www.goodreads.com/work/best_book/15950...      0.2267  \n",
       "26   https://www.goodreads.com/work/best_book/35441...      0.2256  "
      ]
     },
     "execution_count": 37,
     "metadata": {},
     "output_type": "execute_result"
    }
   ],
   "source": [
    "output2"
   ]
  },
  {
   "cell_type": "markdown",
   "metadata": {},
   "source": [
    "# Q4: Make a nice visualization"
   ]
  },
  {
   "cell_type": "markdown",
   "metadata": {},
   "source": [
    "#### Import only the columns of the Dataset useful for this part"
   ]
  },
  {
   "cell_type": "code",
   "execution_count": 51,
   "metadata": {},
   "outputs": [],
   "source": [
    "df = pd.read_csv(\"./data.csv\", usecols= ['bookTitle','bookSeries','numberOfPages','published','url'])"
   ]
  },
  {
   "cell_type": "markdown",
   "metadata": {},
   "source": [
    "#### Remove rows of books that don't belong to a series"
   ]
  },
  {
   "cell_type": "code",
   "execution_count": 52,
   "metadata": {},
   "outputs": [],
   "source": [
    "df = df.drop(df[df['bookSeries'].isnull()].index)"
   ]
  },
  {
   "cell_type": "code",
   "execution_count": 53,
   "metadata": {
    "scrolled": true
   },
   "outputs": [],
   "source": [
    "df = df.reset_index()"
   ]
  },
  {
   "cell_type": "code",
   "execution_count": 54,
   "metadata": {
    "scrolled": true
   },
   "outputs": [
    {
     "data": {
      "text/html": [
       "<div>\n",
       "<style scoped>\n",
       "    .dataframe tbody tr th:only-of-type {\n",
       "        vertical-align: middle;\n",
       "    }\n",
       "\n",
       "    .dataframe tbody tr th {\n",
       "        vertical-align: top;\n",
       "    }\n",
       "\n",
       "    .dataframe thead th {\n",
       "        text-align: right;\n",
       "    }\n",
       "</style>\n",
       "<table border=\"1\" class=\"dataframe\">\n",
       "  <thead>\n",
       "    <tr style=\"text-align: right;\">\n",
       "      <th></th>\n",
       "      <th>index</th>\n",
       "      <th>bookTitle</th>\n",
       "      <th>bookSeries</th>\n",
       "      <th>numberOfPages</th>\n",
       "      <th>published</th>\n",
       "      <th>url</th>\n",
       "    </tr>\n",
       "  </thead>\n",
       "  <tbody>\n",
       "    <tr>\n",
       "      <th>0</th>\n",
       "      <td>0</td>\n",
       "      <td>The Hunger Games</td>\n",
       "      <td>The Hunger Games #1</td>\n",
       "      <td>374.0</td>\n",
       "      <td>September 14th 2008</td>\n",
       "      <td>https://www.goodreads.com/work/best_book/27927...</td>\n",
       "    </tr>\n",
       "    <tr>\n",
       "      <th>1</th>\n",
       "      <td>1</td>\n",
       "      <td>Harry Potter and the Order of the Phoenix</td>\n",
       "      <td>Harry Potter #5</td>\n",
       "      <td>870.0</td>\n",
       "      <td>June 21st 2003</td>\n",
       "      <td>https://www.goodreads.com/work/best_book/28092...</td>\n",
       "    </tr>\n",
       "    <tr>\n",
       "      <th>2</th>\n",
       "      <td>2</td>\n",
       "      <td>To Kill a Mockingbird</td>\n",
       "      <td>To Kill a Mockingbird</td>\n",
       "      <td>324.0</td>\n",
       "      <td>July 11th 1960</td>\n",
       "      <td>https://www.goodreads.com/work/best_book/32757...</td>\n",
       "    </tr>\n",
       "    <tr>\n",
       "      <th>3</th>\n",
       "      <td>4</td>\n",
       "      <td>Twilight</td>\n",
       "      <td>The Twilight Saga #1</td>\n",
       "      <td>501.0</td>\n",
       "      <td>October 5th 2005</td>\n",
       "      <td>https://www.goodreads.com/work/best_book/32122...</td>\n",
       "    </tr>\n",
       "    <tr>\n",
       "      <th>4</th>\n",
       "      <td>7</td>\n",
       "      <td>The Chronicles of Narnia</td>\n",
       "      <td>The Chronicles of Narnia (Publication Order) #1–7</td>\n",
       "      <td>767.0</td>\n",
       "      <td>1956</td>\n",
       "      <td>https://www.goodreads.com/work/best_book/78127...</td>\n",
       "    </tr>\n",
       "    <tr>\n",
       "      <th>...</th>\n",
       "      <td>...</td>\n",
       "      <td>...</td>\n",
       "      <td>...</td>\n",
       "      <td>...</td>\n",
       "      <td>...</td>\n",
       "      <td>...</td>\n",
       "    </tr>\n",
       "    <tr>\n",
       "      <th>12544</th>\n",
       "      <td>27049</td>\n",
       "      <td>Clouds of Witness</td>\n",
       "      <td>Lord Peter Wimsey #2</td>\n",
       "      <td>288.0</td>\n",
       "      <td>1926</td>\n",
       "      <td>https://www.goodreads.com/work/best_book/15762...</td>\n",
       "    </tr>\n",
       "    <tr>\n",
       "      <th>12545</th>\n",
       "      <td>27052</td>\n",
       "      <td>Because You Are Mine</td>\n",
       "      <td>Because You Are Mine #1</td>\n",
       "      <td>368.0</td>\n",
       "      <td>January 2nd 2013</td>\n",
       "      <td>https://www.goodreads.com/work/best_book/21867...</td>\n",
       "    </tr>\n",
       "    <tr>\n",
       "      <th>12546</th>\n",
       "      <td>27053</td>\n",
       "      <td>Rubenesque Rapture</td>\n",
       "      <td>The Endurers #1</td>\n",
       "      <td>288.0</td>\n",
       "      <td>April 3rd 2013</td>\n",
       "      <td>https://www.goodreads.com/work/best_book/24801...</td>\n",
       "    </tr>\n",
       "    <tr>\n",
       "      <th>12547</th>\n",
       "      <td>27055</td>\n",
       "      <td>The Good Life</td>\n",
       "      <td>The Good Life #1</td>\n",
       "      <td>264.0</td>\n",
       "      <td>April 3rd 2013</td>\n",
       "      <td>https://www.goodreads.com/work/best_book/24079...</td>\n",
       "    </tr>\n",
       "    <tr>\n",
       "      <th>12548</th>\n",
       "      <td>27060</td>\n",
       "      <td>The Silver Wolf</td>\n",
       "      <td>Legends of the Wolf #1</td>\n",
       "      <td>460.0</td>\n",
       "      <td>1998</td>\n",
       "      <td>https://www.goodreads.com/work/best_book/25070...</td>\n",
       "    </tr>\n",
       "  </tbody>\n",
       "</table>\n",
       "<p>12549 rows × 6 columns</p>\n",
       "</div>"
      ],
      "text/plain": [
       "       index                                  bookTitle  \\\n",
       "0          0                           The Hunger Games   \n",
       "1          1  Harry Potter and the Order of the Phoenix   \n",
       "2          2                      To Kill a Mockingbird   \n",
       "3          4                                   Twilight   \n",
       "4          7                   The Chronicles of Narnia   \n",
       "...      ...                                        ...   \n",
       "12544  27049                          Clouds of Witness   \n",
       "12545  27052                       Because You Are Mine   \n",
       "12546  27053                         Rubenesque Rapture   \n",
       "12547  27055                              The Good Life   \n",
       "12548  27060                            The Silver Wolf   \n",
       "\n",
       "                                              bookSeries  numberOfPages  \\\n",
       "0                                    The Hunger Games #1          374.0   \n",
       "1                                        Harry Potter #5          870.0   \n",
       "2                                  To Kill a Mockingbird          324.0   \n",
       "3                                   The Twilight Saga #1          501.0   \n",
       "4      The Chronicles of Narnia (Publication Order) #1–7          767.0   \n",
       "...                                                  ...            ...   \n",
       "12544                               Lord Peter Wimsey #2          288.0   \n",
       "12545                            Because You Are Mine #1          368.0   \n",
       "12546                                    The Endurers #1          288.0   \n",
       "12547                                   The Good Life #1          264.0   \n",
       "12548                             Legends of the Wolf #1          460.0   \n",
       "\n",
       "                 published                                                url  \n",
       "0      September 14th 2008  https://www.goodreads.com/work/best_book/27927...  \n",
       "1           June 21st 2003  https://www.goodreads.com/work/best_book/28092...  \n",
       "2           July 11th 1960  https://www.goodreads.com/work/best_book/32757...  \n",
       "3         October 5th 2005  https://www.goodreads.com/work/best_book/32122...  \n",
       "4                     1956  https://www.goodreads.com/work/best_book/78127...  \n",
       "...                    ...                                                ...  \n",
       "12544                 1926  https://www.goodreads.com/work/best_book/15762...  \n",
       "12545     January 2nd 2013  https://www.goodreads.com/work/best_book/21867...  \n",
       "12546       April 3rd 2013  https://www.goodreads.com/work/best_book/24801...  \n",
       "12547       April 3rd 2013  https://www.goodreads.com/work/best_book/24079...  \n",
       "12548                 1998  https://www.goodreads.com/work/best_book/25070...  \n",
       "\n",
       "[12549 rows x 6 columns]"
      ]
     },
     "execution_count": 54,
     "metadata": {},
     "output_type": "execute_result"
    }
   ],
   "source": [
    "df"
   ]
  },
  {
   "cell_type": "markdown",
   "metadata": {},
   "source": [
    "#### Create two new columns \n",
    "These columns were created starting from the BookSeries Column and by splitting it in two:\n",
    "- the name of the serie\n",
    "- the number of the book in the serie"
   ]
  },
  {
   "cell_type": "code",
   "execution_count": 43,
   "metadata": {},
   "outputs": [],
   "source": [
    "df = fn.split_series_and_book_series(df)"
   ]
  },
  {
   "cell_type": "markdown",
   "metadata": {},
   "source": [
    "Now we want to determine which are the first 10 series in order of appearence that we want to analyze"
   ]
  },
  {
   "cell_type": "code",
   "execution_count": 44,
   "metadata": {},
   "outputs": [],
   "source": [
    "series_to_analyze = fn.series_to_analyze(df)"
   ]
  },
  {
   "cell_type": "code",
   "execution_count": 45,
   "metadata": {
    "scrolled": true
   },
   "outputs": [
    {
     "data": {
      "text/plain": [
       "['The Hunger Games ',\n",
       " 'Harry Potter ',\n",
       " 'The Twilight Saga ',\n",
       " \"The Hitchhiker's Guide to the Galaxy \",\n",
       " 'Robert Langdon ',\n",
       " 'Divergent ',\n",
       " 'The Mortal Instruments ',\n",
       " \"Ender's Saga \",\n",
       " 'Anne of Green Gables ',\n",
       " 'Dracula ',\n",
       " 'Percy Jackson and the Olympians ']"
      ]
     },
     "execution_count": 45,
     "metadata": {},
     "output_type": "execute_result"
    }
   ],
   "source": [
    "series_to_analyze"
   ]
  },
  {
   "cell_type": "markdown",
   "metadata": {},
   "source": [
    "#### Create a new dataframe in which there are only the rows corresponding to the series that we want to analyze"
   ]
  },
  {
   "cell_type": "code",
   "execution_count": 46,
   "metadata": {},
   "outputs": [],
   "source": [
    "df1 = fn.create_new_dataframe(df,series_to_analyze)"
   ]
  },
  {
   "cell_type": "code",
   "execution_count": 47,
   "metadata": {
    "scrolled": false
   },
   "outputs": [
    {
     "data": {
      "text/html": [
       "<div>\n",
       "<style scoped>\n",
       "    .dataframe tbody tr th:only-of-type {\n",
       "        vertical-align: middle;\n",
       "    }\n",
       "\n",
       "    .dataframe tbody tr th {\n",
       "        vertical-align: top;\n",
       "    }\n",
       "\n",
       "    .dataframe thead th {\n",
       "        text-align: right;\n",
       "    }\n",
       "</style>\n",
       "<table border=\"1\" class=\"dataframe\">\n",
       "  <thead>\n",
       "    <tr style=\"text-align: right;\">\n",
       "      <th></th>\n",
       "      <th>bookTitle</th>\n",
       "      <th>numberOfPages</th>\n",
       "      <th>published</th>\n",
       "      <th>url</th>\n",
       "      <th>Series</th>\n",
       "      <th>bookInSeries</th>\n",
       "    </tr>\n",
       "  </thead>\n",
       "  <tbody>\n",
       "    <tr>\n",
       "      <th>0</th>\n",
       "      <td>The Hunger Games</td>\n",
       "      <td>374.0</td>\n",
       "      <td>September 14th 2008</td>\n",
       "      <td>https://www.goodreads.com/work/best_book/27927...</td>\n",
       "      <td>The Hunger Games</td>\n",
       "      <td>1</td>\n",
       "    </tr>\n",
       "    <tr>\n",
       "      <th>1</th>\n",
       "      <td>Harry Potter and the Order of the Phoenix</td>\n",
       "      <td>870.0</td>\n",
       "      <td>June 21st 2003</td>\n",
       "      <td>https://www.goodreads.com/work/best_book/28092...</td>\n",
       "      <td>Harry Potter</td>\n",
       "      <td>5</td>\n",
       "    </tr>\n",
       "    <tr>\n",
       "      <th>2</th>\n",
       "      <td>Twilight</td>\n",
       "      <td>501.0</td>\n",
       "      <td>October 5th 2005</td>\n",
       "      <td>https://www.goodreads.com/work/best_book/32122...</td>\n",
       "      <td>The Twilight Saga</td>\n",
       "      <td>1</td>\n",
       "    </tr>\n",
       "    <tr>\n",
       "      <th>3</th>\n",
       "      <td>The Hitchhiker's Guide to the Galaxy</td>\n",
       "      <td>193.0</td>\n",
       "      <td>October 12th 1979</td>\n",
       "      <td>https://www.goodreads.com/work/best_book/30781...</td>\n",
       "      <td>The Hitchhiker's Guide to the Galaxy</td>\n",
       "      <td>1</td>\n",
       "    </tr>\n",
       "    <tr>\n",
       "      <th>4</th>\n",
       "      <td>The Da Vinci Code</td>\n",
       "      <td>489.0</td>\n",
       "      <td>March 18th 2003</td>\n",
       "      <td>https://www.goodreads.com/work/best_book/29821...</td>\n",
       "      <td>Robert Langdon</td>\n",
       "      <td>2</td>\n",
       "    </tr>\n",
       "    <tr>\n",
       "      <th>5</th>\n",
       "      <td>Divergent</td>\n",
       "      <td>487.0</td>\n",
       "      <td>April 25th 2011</td>\n",
       "      <td>https://www.goodreads.com/work/best_book/13155...</td>\n",
       "      <td>Divergent</td>\n",
       "      <td>1</td>\n",
       "    </tr>\n",
       "    <tr>\n",
       "      <th>6</th>\n",
       "      <td>City of Bones</td>\n",
       "      <td>485.0</td>\n",
       "      <td>March 27th 2007</td>\n",
       "      <td>https://www.goodreads.com/work/best_book/22671...</td>\n",
       "      <td>The Mortal Instruments</td>\n",
       "      <td>1</td>\n",
       "    </tr>\n",
       "    <tr>\n",
       "      <th>7</th>\n",
       "      <td>Ender's Game</td>\n",
       "      <td>324.0</td>\n",
       "      <td>1985</td>\n",
       "      <td>https://www.goodreads.com/work/best_book/24223...</td>\n",
       "      <td>Ender's Saga</td>\n",
       "      <td>1</td>\n",
       "    </tr>\n",
       "    <tr>\n",
       "      <th>8</th>\n",
       "      <td>Harry Potter and the Sorcerer's Stone</td>\n",
       "      <td>309.0</td>\n",
       "      <td>June 26th 1997</td>\n",
       "      <td>https://www.goodreads.com/work/best_book/46407...</td>\n",
       "      <td>Harry Potter</td>\n",
       "      <td>1</td>\n",
       "    </tr>\n",
       "    <tr>\n",
       "      <th>9</th>\n",
       "      <td>Anne of Green Gables</td>\n",
       "      <td>320.0</td>\n",
       "      <td>1908</td>\n",
       "      <td>https://www.goodreads.com/work/best_book/34642...</td>\n",
       "      <td>Anne of Green Gables</td>\n",
       "      <td>1</td>\n",
       "    </tr>\n",
       "  </tbody>\n",
       "</table>\n",
       "</div>"
      ],
      "text/plain": [
       "                                   bookTitle  numberOfPages  \\\n",
       "0                           The Hunger Games          374.0   \n",
       "1  Harry Potter and the Order of the Phoenix          870.0   \n",
       "2                                   Twilight          501.0   \n",
       "3       The Hitchhiker's Guide to the Galaxy          193.0   \n",
       "4                          The Da Vinci Code          489.0   \n",
       "5                                  Divergent          487.0   \n",
       "6                              City of Bones          485.0   \n",
       "7                               Ender's Game          324.0   \n",
       "8      Harry Potter and the Sorcerer's Stone          309.0   \n",
       "9                       Anne of Green Gables          320.0   \n",
       "\n",
       "             published                                                url  \\\n",
       "0  September 14th 2008  https://www.goodreads.com/work/best_book/27927...   \n",
       "1       June 21st 2003  https://www.goodreads.com/work/best_book/28092...   \n",
       "2     October 5th 2005  https://www.goodreads.com/work/best_book/32122...   \n",
       "3    October 12th 1979  https://www.goodreads.com/work/best_book/30781...   \n",
       "4      March 18th 2003  https://www.goodreads.com/work/best_book/29821...   \n",
       "5      April 25th 2011  https://www.goodreads.com/work/best_book/13155...   \n",
       "6      March 27th 2007  https://www.goodreads.com/work/best_book/22671...   \n",
       "7                 1985  https://www.goodreads.com/work/best_book/24223...   \n",
       "8       June 26th 1997  https://www.goodreads.com/work/best_book/46407...   \n",
       "9                 1908  https://www.goodreads.com/work/best_book/34642...   \n",
       "\n",
       "                                  Series bookInSeries  \n",
       "0                      The Hunger Games             1  \n",
       "1                          Harry Potter             5  \n",
       "2                     The Twilight Saga             1  \n",
       "3  The Hitchhiker's Guide to the Galaxy             1  \n",
       "4                        Robert Langdon             2  \n",
       "5                             Divergent             1  \n",
       "6                The Mortal Instruments             1  \n",
       "7                          Ender's Saga             1  \n",
       "8                          Harry Potter             1  \n",
       "9                  Anne of Green Gables             1  "
      ]
     },
     "execution_count": 47,
     "metadata": {},
     "output_type": "execute_result"
    }
   ],
   "source": [
    "df1.head(10)"
   ]
  },
  {
   "cell_type": "markdown",
   "metadata": {},
   "source": [
    "Here we want to convert the column *published* into a datetime object so that we can later compare the years of publishment of the different books in the serie"
   ]
  },
  {
   "cell_type": "code",
   "execution_count": 48,
   "metadata": {},
   "outputs": [],
   "source": [
    "df1['published'] = pd.to_datetime(df1['published'])"
   ]
  },
  {
   "cell_type": "code",
   "execution_count": 49,
   "metadata": {
    "scrolled": false
   },
   "outputs": [
    {
     "name": "stdout",
     "output_type": "stream",
     "text": [
      "<class 'pandas.core.frame.DataFrame'>\n",
      "RangeIndex: 54 entries, 0 to 53\n",
      "Data columns (total 6 columns):\n",
      " #   Column         Non-Null Count  Dtype         \n",
      "---  ------         --------------  -----         \n",
      " 0   bookTitle      54 non-null     object        \n",
      " 1   numberOfPages  54 non-null     float64       \n",
      " 2   published      54 non-null     datetime64[ns]\n",
      " 3   url            54 non-null     object        \n",
      " 4   Series         54 non-null     object        \n",
      " 5   bookInSeries   54 non-null     object        \n",
      "dtypes: datetime64[ns](1), float64(1), object(4)\n",
      "memory usage: 2.7+ KB\n"
     ]
    }
   ],
   "source": [
    "df1.info()"
   ]
  },
  {
   "cell_type": "markdown",
   "metadata": {},
   "source": [
    "#### We have everything that we need to create the plots \n",
    "We are going to create **10 different plots**: one for each book series we want to analyze. These plots will have on:\n",
    "- the **x axis**: the years that have passed since the first publication of the first book in the serie (considering year 0 the year of publication of book1)\n",
    "- the **y axis**: the cumulative page count of the books in the series "
   ]
  },
  {
   "cell_type": "code",
   "execution_count": 50,
   "metadata": {
    "scrolled": false
   },
   "outputs": [
    {
     "data": {
      "image/png": "[encoded data removed]",
      "text/plain": [
       "<Figure size 432x288 with 1 Axes>"
      ]
     },
     "metadata": {
      "needs_background": "light"
     },
     "output_type": "display_data"
    },
    {
     "data": {
      "image/png": "[encoded data removed]",
      "text/plain": [
       "<Figure size 432x288 with 1 Axes>"
      ]
     },
     "metadata": {
      "needs_background": "light"
     },
     "output_type": "display_data"
    },
    {
     "data": {
      "image/png": "[encoded data removed]",
      "text/plain": [
       "<Figure size 432x288 with 1 Axes>"
      ]
     },
     "metadata": {
      "needs_background": "light"
     },
     "output_type": "display_data"
    },
    {
     "data": {
      "image/png": "[encoded data removed]",
      "text/plain": [
       "<Figure size 432x288 with 1 Axes>"
      ]
     },
     "metadata": {
      "needs_background": "light"
     },
     "output_type": "display_data"
    },
    {
     "data": {
      "image/png": "[encoded data removed]",
      "text/plain": [
       "<Figure size 432x288 with 1 Axes>"
      ]
     },
     "metadata": {
      "needs_background": "light"
     },
     "output_type": "display_data"
    },
    {
     "data": {
      "image/png": "[encoded data removed]",
      "text/plain": [
       "<Figure size 432x288 with 1 Axes>"
      ]
     },
     "metadata": {
      "needs_background": "light"
     },
     "output_type": "display_data"
    },
    {
     "data": {
      "image/png": "[encoded data removed]",
      "text/plain": [
       "<Figure size 432x288 with 1 Axes>"
      ]
     },
     "metadata": {
      "needs_background": "light"
     },
     "output_type": "display_data"
    },
    {
     "data": {
      "image/png": "[encoded data removed]",
      "text/plain": [
       "<Figure size 432x288 with 1 Axes>"
      ]
     },
     "metadata": {
      "needs_background": "light"
     },
     "output_type": "display_data"
    },
    {
     "data": {
      "image/png": "[encoded data removed]",
      "text/plain": [
       "<Figure size 432x288 with 1 Axes>"
      ]
     },
     "metadata": {
      "needs_background": "light"
     },
     "output_type": "display_data"
    },
    {
     "data": {
      "image/png": "[encoded data removed]",
      "text/plain": [
       "<Figure size 432x288 with 1 Axes>"
      ]
     },
     "metadata": {
      "needs_background": "light"
     },
     "output_type": "display_data"
    },
    {
     "data": {
      "image/png": "[encoded data removed]",
      "text/plain": [
       "<Figure size 432x288 with 1 Axes>"
      ]
     },
     "metadata": {
      "needs_background": "light"
     },
     "output_type": "display_data"
    }
   ],
   "source": [
    "fn.plot_series(series_to_analyze,df1)"
   ]
  }
 ],
 "metadata": {
  "kernelspec": {
   "display_name": "Python 3",
   "language": "python",
   "name": "python3"
  },
  "language_info": {
   "codemirror_mode": {
    "name": "ipython",
    "version": 3
   },
   "file_extension": ".py",
   "mimetype": "text/x-python",
   "name": "python",
   "nbconvert_exporter": "python",
   "pygments_lexer": "ipython3",
   "version": "3.8.3"
  }
 },
 "nbformat": 4,
 "nbformat_minor": 4
}
