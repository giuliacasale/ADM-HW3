{
 "cells": [
  {
   "cell_type": "markdown",
   "metadata": {},
   "source": [
    "**PART 2**"
   ]
  },
  {
   "cell_type": "code",
   "execution_count": 458,
   "metadata": {},
   "outputs": [],
   "source": [
    "import functions_a as fn"
   ]
  },
  {
   "cell_type": "code",
   "execution_count": 459,
   "metadata": {},
   "outputs": [],
   "source": [
    "df = fn.create_dataframe()"
   ]
  },
  {
   "cell_type": "code",
   "execution_count": 460,
   "metadata": {},
   "outputs": [],
   "source": [
    "df.to_csv(r'./data.csv', index = False)"
   ]
  },
  {
   "cell_type": "code",
   "execution_count": 461,
   "metadata": {},
   "outputs": [
    {
     "data": {
      "text/html": [
       "<div>\n",
       "<style scoped>\n",
       "    .dataframe tbody tr th:only-of-type {\n",
       "        vertical-align: middle;\n",
       "    }\n",
       "\n",
       "    .dataframe tbody tr th {\n",
       "        vertical-align: top;\n",
       "    }\n",
       "\n",
       "    .dataframe thead th {\n",
       "        text-align: right;\n",
       "    }\n",
       "</style>\n",
       "<table border=\"1\" class=\"dataframe\">\n",
       "  <thead>\n",
       "    <tr style=\"text-align: right;\">\n",
       "      <th></th>\n",
       "      <th>bookTitle</th>\n",
       "      <th>bookSeries</th>\n",
       "      <th>bookAuthors</th>\n",
       "      <th>ratingValue</th>\n",
       "      <th>ratingCount</th>\n",
       "      <th>reviewCount</th>\n",
       "      <th>plot</th>\n",
       "      <th>numberOfPages</th>\n",
       "      <th>published</th>\n",
       "      <th>characters</th>\n",
       "      <th>setting</th>\n",
       "      <th>url</th>\n",
       "    </tr>\n",
       "  </thead>\n",
       "  <tbody>\n",
       "    <tr>\n",
       "      <td>0</td>\n",
       "      <td>The Hunger Games</td>\n",
       "      <td>The Hunger Games #1</td>\n",
       "      <td>Suzanne Collins</td>\n",
       "      <td>4.33</td>\n",
       "      <td>6,407,571</td>\n",
       "      <td>172,537</td>\n",
       "      <td>Could you survive on your own in the wild, wit...</td>\n",
       "      <td>374.0</td>\n",
       "      <td>September 14th 2008</td>\n",
       "      <td>Katniss Everdeen ; Peeta Mellark ; Cato (Hunge...</td>\n",
       "      <td>District 12, Panem ; Capitol, Panem ; Panem</td>\n",
       "      <td>https://www.goodreads.com/work/best_book/27927...</td>\n",
       "    </tr>\n",
       "    <tr>\n",
       "      <td>1</td>\n",
       "      <td>Harry Potter and the Order of the Phoenix</td>\n",
       "      <td>Harry Potter #5</td>\n",
       "      <td>J.K. Rowling ; Mary GrandPré (Illustrator)</td>\n",
       "      <td>4.50</td>\n",
       "      <td>2,524,101</td>\n",
       "      <td>42,713</td>\n",
       "      <td>There is a door at the end of a silent corrido...</td>\n",
       "      <td>870.0</td>\n",
       "      <td>September 2004</td>\n",
       "      <td>Sirius Black ; Draco Malfoy ; Ron Weasley ; Pe...</td>\n",
       "      <td>Hogwarts School of Witchcraft and Wizardry ; L...</td>\n",
       "      <td>https://www.goodreads.com/work/best_book/28092...</td>\n",
       "    </tr>\n",
       "    <tr>\n",
       "      <td>2</td>\n",
       "      <td>To Kill a Mockingbird</td>\n",
       "      <td>To Kill a Mockingbird</td>\n",
       "      <td>Harper Lee</td>\n",
       "      <td>4.28</td>\n",
       "      <td>4,526,345</td>\n",
       "      <td>91,784</td>\n",
       "      <td>The unforgettable novel of a childhood in a sl...</td>\n",
       "      <td>324.0</td>\n",
       "      <td>May 23rd 2006</td>\n",
       "      <td>Scout Finch ; Atticus Finch ; Jem Finch ; Arth...</td>\n",
       "      <td>Maycomb, Alabama</td>\n",
       "      <td>https://www.goodreads.com/work/best_book/32757...</td>\n",
       "    </tr>\n",
       "    <tr>\n",
       "      <td>3</td>\n",
       "      <td>Pride and Prejudice</td>\n",
       "      <td>NaN</td>\n",
       "      <td>Jane Austen ; Anna Quindlen (Introduction)</td>\n",
       "      <td>4.26</td>\n",
       "      <td>3,016,917</td>\n",
       "      <td>67,784</td>\n",
       "      <td>Alternate cover edition of ISBN 9780679783268S...</td>\n",
       "      <td>279.0</td>\n",
       "      <td>October 10th 2000</td>\n",
       "      <td>Mr. Bennet ; Mrs. Bennet ; Jane Bennet ; Eliza...</td>\n",
       "      <td>United Kingdom ; Derbyshire, England ; England...</td>\n",
       "      <td>https://www.goodreads.com/work/best_book/30609...</td>\n",
       "    </tr>\n",
       "    <tr>\n",
       "      <td>4</td>\n",
       "      <td>Twilight</td>\n",
       "      <td>The Twilight Saga #1</td>\n",
       "      <td>Stephenie Meyer</td>\n",
       "      <td>3.60</td>\n",
       "      <td>4,988,910</td>\n",
       "      <td>104,902</td>\n",
       "      <td>About three things I was absolutely positive.F...</td>\n",
       "      <td>501.0</td>\n",
       "      <td>September 6th 2006</td>\n",
       "      <td>Edward Cullen ; Jacob Black ; Laurent ; Renee ...</td>\n",
       "      <td>Forks, Washington ; Phoenix, Arizona ; Washing...</td>\n",
       "      <td>https://www.goodreads.com/work/best_book/32122...</td>\n",
       "    </tr>\n",
       "  </tbody>\n",
       "</table>\n",
       "</div>"
      ],
      "text/plain": [
       "                                   bookTitle             bookSeries  \\\n",
       "0                           The Hunger Games    The Hunger Games #1   \n",
       "1  Harry Potter and the Order of the Phoenix        Harry Potter #5   \n",
       "2                      To Kill a Mockingbird  To Kill a Mockingbird   \n",
       "3                        Pride and Prejudice                    NaN   \n",
       "4                                   Twilight   The Twilight Saga #1   \n",
       "\n",
       "                                  bookAuthors  ratingValue ratingCount  \\\n",
       "0                             Suzanne Collins         4.33   6,407,571   \n",
       "1  J.K. Rowling ; Mary GrandPré (Illustrator)         4.50   2,524,101   \n",
       "2                                  Harper Lee         4.28   4,526,345   \n",
       "3  Jane Austen ; Anna Quindlen (Introduction)         4.26   3,016,917   \n",
       "4                             Stephenie Meyer         3.60   4,988,910   \n",
       "\n",
       "  reviewCount                                               plot  \\\n",
       "0     172,537  Could you survive on your own in the wild, wit...   \n",
       "1      42,713  There is a door at the end of a silent corrido...   \n",
       "2      91,784  The unforgettable novel of a childhood in a sl...   \n",
       "3      67,784  Alternate cover edition of ISBN 9780679783268S...   \n",
       "4     104,902  About three things I was absolutely positive.F...   \n",
       "\n",
       "   numberOfPages            published  \\\n",
       "0          374.0  September 14th 2008   \n",
       "1          870.0       September 2004   \n",
       "2          324.0        May 23rd 2006   \n",
       "3          279.0    October 10th 2000   \n",
       "4          501.0   September 6th 2006   \n",
       "\n",
       "                                          characters  \\\n",
       "0  Katniss Everdeen ; Peeta Mellark ; Cato (Hunge...   \n",
       "1  Sirius Black ; Draco Malfoy ; Ron Weasley ; Pe...   \n",
       "2  Scout Finch ; Atticus Finch ; Jem Finch ; Arth...   \n",
       "3  Mr. Bennet ; Mrs. Bennet ; Jane Bennet ; Eliza...   \n",
       "4  Edward Cullen ; Jacob Black ; Laurent ; Renee ...   \n",
       "\n",
       "                                             setting  \\\n",
       "0        District 12, Panem ; Capitol, Panem ; Panem   \n",
       "1  Hogwarts School of Witchcraft and Wizardry ; L...   \n",
       "2                                   Maycomb, Alabama   \n",
       "3  United Kingdom ; Derbyshire, England ; England...   \n",
       "4  Forks, Washington ; Phoenix, Arizona ; Washing...   \n",
       "\n",
       "                                                 url  \n",
       "0  https://www.goodreads.com/work/best_book/27927...  \n",
       "1  https://www.goodreads.com/work/best_book/28092...  \n",
       "2  https://www.goodreads.com/work/best_book/32757...  \n",
       "3  https://www.goodreads.com/work/best_book/30609...  \n",
       "4  https://www.goodreads.com/work/best_book/32122...  "
      ]
     },
     "execution_count": 461,
     "metadata": {},
     "output_type": "execute_result"
    }
   ],
   "source": [
    "df.head()"
   ]
  },
  {
   "cell_type": "code",
   "execution_count": 468,
   "metadata": {},
   "outputs": [],
   "source": [
    "import math\n",
    "import nltk\n",
    "import itertools\n",
    "import functions_a as fn\n",
    "import os\n",
    "from collections import defaultdict\n",
    "from collections import OrderedDict\n",
    "from collections import Counter\n",
    "from nltk.corpus import stopwords \n",
    "from nltk.stem import PorterStemmer\n",
    "from nltk.tokenize import RegexpTokenizer\n",
    "\n",
    "import pickle"
   ]
  },
  {
   "cell_type": "code",
   "execution_count": 463,
   "metadata": {},
   "outputs": [],
   "source": [
    "#Useful functions to save and load files in pickle format\n",
    "def save_dict(obj, name ):\n",
    "    with open(f'{name}.pickle', 'wb') as f:\n",
    "        pickle.dump(obj, f)\n",
    "\n",
    "def load_obj(name ):\n",
    "    with open(f'{name}.pickle', 'rb') as f:\n",
    "        return pickle.load(f)"
   ]
  },
  {
   "cell_type": "code",
   "execution_count": 464,
   "metadata": {},
   "outputs": [
    {
     "data": {
      "text/plain": [
       "582"
      ]
     },
     "execution_count": 464,
     "metadata": {},
     "output_type": "execute_result"
    }
   ],
   "source": [
    "df['plot'].isnull().sum()"
   ]
  },
  {
   "cell_type": "code",
   "execution_count": 465,
   "metadata": {},
   "outputs": [],
   "source": [
    "df['plot'].fillna('unknown',inplace = True)"
   ]
  },
  {
   "cell_type": "code",
   "execution_count": 466,
   "metadata": {},
   "outputs": [
    {
     "data": {
      "text/plain": [
       "0"
      ]
     },
     "execution_count": 466,
     "metadata": {},
     "output_type": "execute_result"
    }
   ],
   "source": [
    "df['plot'].isnull().sum()"
   ]
  },
  {
   "cell_type": "code",
   "execution_count": 470,
   "metadata": {},
   "outputs": [],
   "source": [
    "dictionary = fn.build_dictionary(df)\n"
   ]
  },
  {
   "cell_type": "code",
   "execution_count": 21,
   "metadata": {},
   "outputs": [
    {
     "name": "stderr",
     "output_type": "stream",
     "text": [
      "[nltk_data] Downloading package stopwords to\n",
      "[nltk_data]     /Users/eugeniobaldo/nltk_data...\n",
      "[nltk_data]   Unzipping corpora/stopwords.zip.\n"
     ]
    },
    {
     "data": {
      "text/plain": [
       "True"
      ]
     },
     "execution_count": 21,
     "metadata": {},
     "output_type": "execute_result"
    }
   ],
   "source": [
    "import nltk\n",
    "nltk.download('stopwords')"
   ]
  },
  {
   "cell_type": "code",
   "execution_count": 469,
   "metadata": {},
   "outputs": [],
   "source": [
    "save_dict(dictionary,'vocabulary')   #to save"
   ]
  },
  {
   "cell_type": "code",
   "execution_count": 24,
   "metadata": {},
   "outputs": [],
   "source": [
    "dictionary = load_obj('vocabulary')  #to load"
   ]
  },
  {
   "cell_type": "code",
   "execution_count": 25,
   "metadata": {},
   "outputs": [],
   "source": [
    "frequency_of_words = fn.frequency_of_words_per_book(df,dictionary)"
   ]
  },
  {
   "cell_type": "code",
   "execution_count": 26,
   "metadata": {},
   "outputs": [],
   "source": [
    "inverted_index_1 = fn.inverted_index1(df,dictionary,frequency_of_words)"
   ]
  },
  {
   "cell_type": "code",
   "execution_count": 27,
   "metadata": {},
   "outputs": [],
   "source": [
    "save_dict(inverted_index_1,'inverted_index_1')    #to save"
   ]
  },
  {
   "cell_type": "code",
   "execution_count": 28,
   "metadata": {},
   "outputs": [],
   "source": [
    "inverted_index_1 = load_obj('inverted_index_1')   #to load"
   ]
  },
  {
   "cell_type": "code",
   "execution_count": 29,
   "metadata": {},
   "outputs": [
    {
     "name": "stdout",
     "output_type": "stream",
     "text": [
      "survival games\n"
     ]
    }
   ],
   "source": [
    "query = input()"
   ]
  },
  {
   "cell_type": "code",
   "execution_count": 30,
   "metadata": {},
   "outputs": [
    {
     "data": {
      "text/plain": [
       "['surviv', 'game']"
      ]
     },
     "execution_count": 30,
     "metadata": {},
     "output_type": "execute_result"
    }
   ],
   "source": [
    "query = fn.query_processed(query)\n",
    "query"
   ]
  },
  {
   "cell_type": "code",
   "execution_count": 471,
   "metadata": {},
   "outputs": [],
   "source": [
    "output = fn.search_engine1(query,df,inverted_index_1,dictionary)"
   ]
  },
  {
   "cell_type": "code",
   "execution_count": 472,
   "metadata": {},
   "outputs": [
    {
     "data": {
      "text/html": [
       "<div>\n",
       "<style scoped>\n",
       "    .dataframe tbody tr th:only-of-type {\n",
       "        vertical-align: middle;\n",
       "    }\n",
       "\n",
       "    .dataframe tbody tr th {\n",
       "        vertical-align: top;\n",
       "    }\n",
       "\n",
       "    .dataframe thead th {\n",
       "        text-align: right;\n",
       "    }\n",
       "</style>\n",
       "<table border=\"1\" class=\"dataframe\">\n",
       "  <thead>\n",
       "    <tr style=\"text-align: right;\">\n",
       "      <th></th>\n",
       "      <th>bookTitle</th>\n",
       "      <th>bookSeries</th>\n",
       "      <th>bookAuthors</th>\n",
       "      <th>ratingValue</th>\n",
       "      <th>ratingCount</th>\n",
       "      <th>reviewCount</th>\n",
       "      <th>plot</th>\n",
       "      <th>numberOfPages</th>\n",
       "      <th>published</th>\n",
       "      <th>characters</th>\n",
       "      <th>setting</th>\n",
       "      <th>url</th>\n",
       "    </tr>\n",
       "  </thead>\n",
       "  <tbody>\n",
       "    <tr>\n",
       "      <td>0</td>\n",
       "      <td>The Hunger Games</td>\n",
       "      <td>The Hunger Games #1</td>\n",
       "      <td>Suzanne Collins</td>\n",
       "      <td>4.33</td>\n",
       "      <td>6,407,571</td>\n",
       "      <td>172,537</td>\n",
       "      <td>Could you survive on your own in the wild, wit...</td>\n",
       "      <td>374.0</td>\n",
       "      <td>September 14th 2008</td>\n",
       "      <td>Katniss Everdeen ; Peeta Mellark ; Cato (Hunge...</td>\n",
       "      <td>District 12, Panem ; Capitol, Panem ; Panem</td>\n",
       "      <td>https://www.goodreads.com/work/best_book/27927...</td>\n",
       "    </tr>\n",
       "    <tr>\n",
       "      <td>1</td>\n",
       "      <td>Catching Fire</td>\n",
       "      <td>The Hunger Games #2</td>\n",
       "      <td>Suzanne Collins</td>\n",
       "      <td>4.29</td>\n",
       "      <td>2,529,881</td>\n",
       "      <td>97,134</td>\n",
       "      <td>SPARKS ARE IGNITING.FLAMES ARE SPREADING.AND T...</td>\n",
       "      <td>391.0</td>\n",
       "      <td>September 1st 2009</td>\n",
       "      <td>Katniss Everdeen ; Peeta Mellark ; Primrose Ev...</td>\n",
       "      <td>District 12, Panem ; Capitol, Panem ; Panem</td>\n",
       "      <td>https://www.goodreads.com/work/best_book/61714...</td>\n",
       "    </tr>\n",
       "    <tr>\n",
       "      <td>2</td>\n",
       "      <td>Mockingjay</td>\n",
       "      <td>The Hunger Games #3</td>\n",
       "      <td>Suzanne Collins ; Elizabeth B. Parisi (Book De...</td>\n",
       "      <td>4.04</td>\n",
       "      <td>2,354,983</td>\n",
       "      <td>103,884</td>\n",
       "      <td>The final book in the ground-breaking HUNGER G...</td>\n",
       "      <td>390.0</td>\n",
       "      <td>August 24th 2010</td>\n",
       "      <td>Katniss Everdeen ; Peeta Mellark ; Primrose Ev...</td>\n",
       "      <td>District 13, Panem ; District 12, Panem ; Capi...</td>\n",
       "      <td>https://www.goodreads.com/work/best_book/88127...</td>\n",
       "    </tr>\n",
       "    <tr>\n",
       "      <td>3</td>\n",
       "      <td>Legend</td>\n",
       "      <td>Legend #1</td>\n",
       "      <td>Marie Lu (Goodreads Author)</td>\n",
       "      <td>4.17</td>\n",
       "      <td>414,084</td>\n",
       "      <td>28,747</td>\n",
       "      <td>What was once the western United States is now...</td>\n",
       "      <td>305.0</td>\n",
       "      <td>November 29th 2011</td>\n",
       "      <td>June Iparis ; Daniel Altan Wing ; Metias Ipari...</td>\n",
       "      <td>Los Angeles, The Republic of America</td>\n",
       "      <td>https://www.goodreads.com/work/best_book/14157...</td>\n",
       "    </tr>\n",
       "    <tr>\n",
       "      <td>4</td>\n",
       "      <td>A Child Called \"It\"</td>\n",
       "      <td>Dave Pelzer #1</td>\n",
       "      <td>Dave Pelzer (Goodreads Author)</td>\n",
       "      <td>4.11</td>\n",
       "      <td>380,530</td>\n",
       "      <td>15,918</td>\n",
       "      <td>Also see: Alternate Cover Editions for this IS...</td>\n",
       "      <td>184.0</td>\n",
       "      <td>September 1st 1995</td>\n",
       "      <td>NaN</td>\n",
       "      <td>NaN</td>\n",
       "      <td>https://www.goodreads.com/work/best_book/59104...</td>\n",
       "    </tr>\n",
       "    <tr>\n",
       "      <td>5</td>\n",
       "      <td>The Magus</td>\n",
       "      <td>NaN</td>\n",
       "      <td>John Fowles</td>\n",
       "      <td>4.05</td>\n",
       "      <td>47,701</td>\n",
       "      <td>2,888</td>\n",
       "      <td>This daring literary thriller, rich with eroti...</td>\n",
       "      <td>656.0</td>\n",
       "      <td>January 4th 2001</td>\n",
       "      <td>Nicholas Urfe ; Alison Kelly ; Maurice Conchis...</td>\n",
       "      <td>Greece ; London, England</td>\n",
       "      <td>https://www.goodreads.com/work/best_book/18164...</td>\n",
       "    </tr>\n",
       "    <tr>\n",
       "      <td>6</td>\n",
       "      <td>Ender's Shadow</td>\n",
       "      <td>The Shadow Series #1</td>\n",
       "      <td>Orson Scott Card</td>\n",
       "      <td>4.30</td>\n",
       "      <td>154,717</td>\n",
       "      <td>5,242</td>\n",
       "      <td>Welcome to Battleschool.Growing up is never ea...</td>\n",
       "      <td>469.0</td>\n",
       "      <td>May 19th 2002</td>\n",
       "      <td>Andrew Wiggin ; \"Bean\" ; Nikolai Delphiki ; Vo...</td>\n",
       "      <td>Rotterdam ; Battle School</td>\n",
       "      <td>https://www.goodreads.com/work/best_book/31455...</td>\n",
       "    </tr>\n",
       "    <tr>\n",
       "      <td>7</td>\n",
       "      <td>The Lucky One</td>\n",
       "      <td>NaN</td>\n",
       "      <td>Nicholas Sparks (Goodreads Author)</td>\n",
       "      <td>4.12</td>\n",
       "      <td>328,809</td>\n",
       "      <td>10,165</td>\n",
       "      <td>When U.S. Marine Logan Thibault finds a photog...</td>\n",
       "      <td>326.0</td>\n",
       "      <td>August 11th 2009</td>\n",
       "      <td>Logan Thibault ; Elizabeth Clayton ; Ben Clayt...</td>\n",
       "      <td>Hampton, North Carolina</td>\n",
       "      <td>https://www.goodreads.com/work/best_book/30944...</td>\n",
       "    </tr>\n",
       "    <tr>\n",
       "      <td>8</td>\n",
       "      <td>Sliding on the Snow Stone</td>\n",
       "      <td>NaN</td>\n",
       "      <td>Andy Szpuk (Goodreads Author)</td>\n",
       "      <td>4.07</td>\n",
       "      <td>358</td>\n",
       "      <td>54</td>\n",
       "      <td>It is astonishing that anyone lived this story...</td>\n",
       "      <td>238.0</td>\n",
       "      <td>September 21st 2011</td>\n",
       "      <td>NaN</td>\n",
       "      <td>Ukraine</td>\n",
       "      <td>https://www.goodreads.com/work/best_book/18004...</td>\n",
       "    </tr>\n",
       "    <tr>\n",
       "      <td>9</td>\n",
       "      <td>Code Name Verity</td>\n",
       "      <td>Code Name Verity #4</td>\n",
       "      <td>Elizabeth Wein (Goodreads Author)</td>\n",
       "      <td>4.02</td>\n",
       "      <td>97,872</td>\n",
       "      <td>14,482</td>\n",
       "      <td>Oct. 11th, 1943 - A British spy plane crashes ...</td>\n",
       "      <td>452.0</td>\n",
       "      <td>February 6th 2012</td>\n",
       "      <td>Hauptsturmfuhrer von Linden ; Fraulein Engel ;...</td>\n",
       "      <td>England ; Ormaie, France</td>\n",
       "      <td>https://www.goodreads.com/work/best_book/16885...</td>\n",
       "    </tr>\n",
       "  </tbody>\n",
       "</table>\n",
       "</div>"
      ],
      "text/plain": [
       "                   bookTitle            bookSeries  \\\n",
       "0           The Hunger Games   The Hunger Games #1   \n",
       "1              Catching Fire   The Hunger Games #2   \n",
       "2                 Mockingjay   The Hunger Games #3   \n",
       "3                     Legend             Legend #1   \n",
       "4        A Child Called \"It\"        Dave Pelzer #1   \n",
       "5                  The Magus                   NaN   \n",
       "6             Ender's Shadow  The Shadow Series #1   \n",
       "7              The Lucky One                   NaN   \n",
       "8  Sliding on the Snow Stone                   NaN   \n",
       "9           Code Name Verity   Code Name Verity #4   \n",
       "\n",
       "                                         bookAuthors  ratingValue ratingCount  \\\n",
       "0                                    Suzanne Collins         4.33   6,407,571   \n",
       "1                                    Suzanne Collins         4.29   2,529,881   \n",
       "2  Suzanne Collins ; Elizabeth B. Parisi (Book De...         4.04   2,354,983   \n",
       "3                        Marie Lu (Goodreads Author)         4.17     414,084   \n",
       "4                     Dave Pelzer (Goodreads Author)         4.11     380,530   \n",
       "5                                        John Fowles         4.05      47,701   \n",
       "6                                   Orson Scott Card         4.30     154,717   \n",
       "7                 Nicholas Sparks (Goodreads Author)         4.12     328,809   \n",
       "8                      Andy Szpuk (Goodreads Author)         4.07         358   \n",
       "9                  Elizabeth Wein (Goodreads Author)         4.02      97,872   \n",
       "\n",
       "  reviewCount                                               plot  \\\n",
       "0     172,537  Could you survive on your own in the wild, wit...   \n",
       "1      97,134  SPARKS ARE IGNITING.FLAMES ARE SPREADING.AND T...   \n",
       "2     103,884  The final book in the ground-breaking HUNGER G...   \n",
       "3      28,747  What was once the western United States is now...   \n",
       "4      15,918  Also see: Alternate Cover Editions for this IS...   \n",
       "5       2,888  This daring literary thriller, rich with eroti...   \n",
       "6       5,242  Welcome to Battleschool.Growing up is never ea...   \n",
       "7      10,165  When U.S. Marine Logan Thibault finds a photog...   \n",
       "8          54  It is astonishing that anyone lived this story...   \n",
       "9      14,482  Oct. 11th, 1943 - A British spy plane crashes ...   \n",
       "\n",
       "   numberOfPages            published  \\\n",
       "0          374.0  September 14th 2008   \n",
       "1          391.0   September 1st 2009   \n",
       "2          390.0     August 24th 2010   \n",
       "3          305.0   November 29th 2011   \n",
       "4          184.0   September 1st 1995   \n",
       "5          656.0     January 4th 2001   \n",
       "6          469.0        May 19th 2002   \n",
       "7          326.0     August 11th 2009   \n",
       "8          238.0  September 21st 2011   \n",
       "9          452.0    February 6th 2012   \n",
       "\n",
       "                                          characters  \\\n",
       "0  Katniss Everdeen ; Peeta Mellark ; Cato (Hunge...   \n",
       "1  Katniss Everdeen ; Peeta Mellark ; Primrose Ev...   \n",
       "2  Katniss Everdeen ; Peeta Mellark ; Primrose Ev...   \n",
       "3  June Iparis ; Daniel Altan Wing ; Metias Ipari...   \n",
       "4                                                NaN   \n",
       "5  Nicholas Urfe ; Alison Kelly ; Maurice Conchis...   \n",
       "6  Andrew Wiggin ; \"Bean\" ; Nikolai Delphiki ; Vo...   \n",
       "7  Logan Thibault ; Elizabeth Clayton ; Ben Clayt...   \n",
       "8                                                NaN   \n",
       "9  Hauptsturmfuhrer von Linden ; Fraulein Engel ;...   \n",
       "\n",
       "                                             setting  \\\n",
       "0        District 12, Panem ; Capitol, Panem ; Panem   \n",
       "1        District 12, Panem ; Capitol, Panem ; Panem   \n",
       "2  District 13, Panem ; District 12, Panem ; Capi...   \n",
       "3               Los Angeles, The Republic of America   \n",
       "4                                                NaN   \n",
       "5                           Greece ; London, England   \n",
       "6                          Rotterdam ; Battle School   \n",
       "7                            Hampton, North Carolina   \n",
       "8                                            Ukraine   \n",
       "9                           England ; Ormaie, France   \n",
       "\n",
       "                                                 url  \n",
       "0  https://www.goodreads.com/work/best_book/27927...  \n",
       "1  https://www.goodreads.com/work/best_book/61714...  \n",
       "2  https://www.goodreads.com/work/best_book/88127...  \n",
       "3  https://www.goodreads.com/work/best_book/14157...  \n",
       "4  https://www.goodreads.com/work/best_book/59104...  \n",
       "5  https://www.goodreads.com/work/best_book/18164...  \n",
       "6  https://www.goodreads.com/work/best_book/31455...  \n",
       "7  https://www.goodreads.com/work/best_book/30944...  \n",
       "8  https://www.goodreads.com/work/best_book/18004...  \n",
       "9  https://www.goodreads.com/work/best_book/16885...  "
      ]
     },
     "execution_count": 472,
     "metadata": {},
     "output_type": "execute_result"
    }
   ],
   "source": [
    "output.head(10)"
   ]
  },
  {
   "cell_type": "code",
   "execution_count": 473,
   "metadata": {},
   "outputs": [],
   "source": [
    "tf_score = fn.tf(df,dictionary,frequency_of_words)"
   ]
  },
  {
   "cell_type": "code",
   "execution_count": 37,
   "metadata": {},
   "outputs": [],
   "source": [
    "idf_score = fn.idf(df,dictionary,frequency_of_words)"
   ]
  },
  {
   "cell_type": "code",
   "execution_count": 38,
   "metadata": {},
   "outputs": [],
   "source": [
    "tf_idf_scores = fn.tf_idf_score(df,dictionary,tf_score,idf_score)"
   ]
  },
  {
   "cell_type": "code",
   "execution_count": 474,
   "metadata": {},
   "outputs": [
    {
     "name": "stdout",
     "output_type": "stream",
     "text": [
      "[0.3248, 0.0, 0.0, 0.0, 0.0, 0.0, 0.0, 0.0, 0.0, 0.0, 0.0, 0.0, 0.0, 0.0, 0.0, 0.0, 0.0, 0.0, 0.0, 0.0, 0.0, 0.0, 0.0, 0.0, 0.0, 0.0, 0.0855, 0.0, 0.0, 0.041, 0.0, 0.0492, 0.0, 0.0, 0.0, 0.0, 0.0, 0.0, 0.0, 0.0, 0.0, 0.0, 0.0, 0.0, 0.0598, 0.1022, 0.0, 0.0, 0.0, 0.0, 0.0, 0.0, 0.0336, 0.0679, 0.0, 0.0498, 0.0, 0.0, 0.0, 0.0, 0.0, 0.0, 0.0, 0.0, 0.0, 0.0, 0.0, 0.0772, 0.0, 0.048, 0.0, 0.0, 0.0, 0.0, 0.0, 0.0, 0.057, 0.0, 0.0, 0.0, 0.0, 0.0, 0.0, 0.0, 0.0, 0.0605, 0.0, 0.0, 0.0, 0.0, 0.0, 0.0, 0.0, 0.0, 0.0, 0.0, 0.0, 0.0, 0.0, 0.0765, 0.0, 0.0, 0.0, 0.0, 0.0, 0.0, 0.0, 0.0, 0.0, 0.0, 0.0, 0.0, 0.0, 0.0, 0.0, 0.0, 0.0, 0.0, 0.0, 0.0, 0.0, 0.0]\n"
     ]
    }
   ],
   "source": [
    "cosine_similarity_score = fn.cosine_similarity(query,output,tf_idf_scores)\n",
    "print((cosine_similarity_score))"
   ]
  },
  {
   "cell_type": "markdown",
   "metadata": {},
   "source": [
    "# part 3 #"
   ]
  },
  {
   "cell_type": "markdown",
   "metadata": {},
   "source": [
    "**for this part the aim is to define a new score metrics different from other score metrics, such as cosine-similarity. This metric has to take into account other variables which are in the provided dataset as a result of the parsing. For this purpose has been defined a new metric called user_score: the user score is substantially a weighted average of 4 different scores: the cosine similarity, the rate_score,the lenght_score and the date_release score. The weight of these scores are choosen directly from users, who can give a vote from 0 to 5 which represents the importance of that feature in their search** "
   ]
  },
  {
   "cell_type": "markdown",
   "metadata": {},
   "source": [
    "**rate_score**\n",
    "\n",
    "the rate_score gives a measure which encompasses both the number of rates (e.g 549,545,666) and the rate value (e.g 4.5/5). the formula to compute it is the following: \n",
    "\n",
    "$\\sum_{i=0}^{m} \\frac{ratevalue_{doc_i}\\log(1+ratenumber_{doc_i})}{maxratevalue_{docs}\\log(1.00000001+maxratenumber_{docs})}$\n",
    "\n",
    "where  \n",
    "1. m=number of documents which contains the query\n",
    "2. doc_i= specific document\n",
    "3. docs= set of documents found by the query\n",
    "4. ratevalue= integer value between [0,5]\n",
    "5. ratenumber= number of rates for each document \n",
    "6. maxratevalue= max rate value among the documents found\n",
    "7. maxratenumber= max rate number among the  documents found\n",
    "\n",
    "this score is included betwenn [0,1] \n",
    "it is 1 when the document found by the search engine is both the document with more ratings and with the best vote (rate value). it is 0 when the documents has no ratings or has a vote that is 0.\n",
    "      \n",
    "it has been added a constant of 0.00000001 in the denominator in order to avoid a zero division error.    \n",
    "\n",
    "rate score provides a measure both of the popularity of the book and of the users appreciation of the book."
   ]
  },
  {
   "cell_type": "markdown",
   "metadata": {},
   "source": [
    "**lenght_score**\n",
    "\n",
    "$ lenghtscore= (\\sum_{i=0}^{m1} 1-(k x_i)$ where k= 1/m1 and where m1 is (m-na number)) if $x_i\\neq x_{i-1}$\n",
    "\n",
    "$lenghtscore_{i}= lenghtscore_{i-1}$ if $x_{i}=x_{i-1}$\n",
    "\n",
    "$lenghtscore_{i}$= 0 if $x_{i}=na$\n",
    "\n",
    "the lenght score, given a number of pages in input by the user, aims to find what are the books closer to this specific user request. This score is a positional score: the score to a book is given taking into account the ranking of books ordered in ascending order by absolute value of number of pages difference. However this metric, even if the number of pages between books differs, will give a score of 1 if the book has the minimum difference among all. the score of 0 is assigned for books which don't provide the number of pages value in the dataset.\n",
    "the score is diminished each time by a coefficient proportional to the ranking number and the inverse of the lenght of books considered. "
   ]
  },
  {
   "cell_type": "markdown",
   "metadata": {},
   "source": [
    "**date_release_score**\n",
    "\n",
    "DRS= ($\\sum_{i=0}^{m1} 1-(k x_i)$ where k= 1/m1 and where m1 is (m-na number)) if $x_i\\neq x_{i-1}$\n",
    "\n",
    "\n",
    "$DRS_{i}$= $DRS_{i-1}$ if $x_{i}=x_{i-1}$\n",
    "\n",
    "\n",
    "$DRS_{i}$= 0 if $x_{i}=na$ \n",
    "\n",
    "the date release score has the same mechanism of the lenght score but, instead of taking into account the book pages, deals with the year of pubblication of the book. As in lenght score the user will give in input a desired year for the book searched and the score will be maximixed for the books most closer in time to user request."
   ]
  },
  {
   "cell_type": "code",
   "execution_count": 521,
   "metadata": {},
   "outputs": [],
   "source": [
    " from functions_a import cosine_similarity as cos"
   ]
  },
  {
   "cell_type": "markdown",
   "metadata": {},
   "source": [
    "*in the following cells the user gives in input the desired number of pages and the desired year of pubblication*"
   ]
  },
  {
   "cell_type": "code",
   "execution_count": 522,
   "metadata": {},
   "outputs": [
    {
     "name": "stdout",
     "output_type": "stream",
     "text": [
      "please insert the desired lenght for your new book giving the number of pages\n",
      "400\n"
     ]
    }
   ],
   "source": [
    "desired_lenght=int(input(\"please insert the desired lenght for your new book giving the number of pages\\n\").strip())\n"
   ]
  },
  {
   "cell_type": "code",
   "execution_count": 523,
   "metadata": {},
   "outputs": [
    {
     "name": "stdout",
     "output_type": "stream",
     "text": [
      "please insert the desired year for your new book in the format xxxx\n",
      "2008\n"
     ]
    }
   ],
   "source": [
    "desired_year=int(input(\"please insert the desired year for your new book in the format xxxx\\n\").strip())"
   ]
  },
  {
   "cell_type": "code",
   "execution_count": 524,
   "metadata": {},
   "outputs": [],
   "source": [
    "import new_modules as mod"
   ]
  },
  {
   "cell_type": "code",
   "execution_count": 525,
   "metadata": {},
   "outputs": [],
   "source": [
    "\n",
    "cosine_similarity=cos(query,output,tf_idf_scores)\n",
    "\n",
    "rate_score=mod.rating_score(output)\n",
    "\n",
    "book_lenght_score=mod.lenght_score(output,desired_lenght)\n",
    "\n",
    "publish_date_score=mod.publish_score(output,desired_year)\n",
    "\n"
   ]
  },
  {
   "cell_type": "markdown",
   "metadata": {},
   "source": [
    "**in this section the user has to provide his preferences about the importance of the parameters for his research**"
   ]
  },
  {
   "cell_type": "code",
   "execution_count": 529,
   "metadata": {},
   "outputs": [
    {
     "name": "stdout",
     "output_type": "stream",
     "text": [
      "you are asked to tell us how much important\n",
      " is for you the number of pages of the book\n",
      "\n",
      "insert a value between 0 and 5\n",
      "3\n",
      "you are asked to tell us how much important\n",
      " is for you the year of pubblication of the book\n",
      "\n",
      "insert a value between 0 and 5\n",
      "4\n",
      "you are asked to tell us how much is important\n",
      " is for you the similarity of your description with the plot of the book \n",
      "insert a value between 0 and 5\n",
      "5\n",
      "you are asked to tell us how much is important\n",
      " for you the popularity and the users vote for your searched book\n",
      "insert a value between 0 and 5\n",
      "2\n"
     ]
    }
   ],
   "source": [
    "print(\"you are asked to tell us how much important\\n is for you the number of pages of the book\\n\")\n",
    "\n",
    "k_pages=mod.input_vote()\n",
    "\n",
    "print(\"you are asked to tell us how much important\\n is for you the year of pubblication of the book\\n\")\n",
    "\n",
    "k_date=mod.input_vote()\n",
    "\n",
    "print(\"you are asked to tell us how much is important\\n is for you the similarity of your description with the plot of the book \")\n",
    "\n",
    "k_cosine=mod.input_vote()\n",
    "\n",
    "print(\"you are asked to tell us how much is important\\n for you the popularity and the users vote for your searched book\")\n",
    "\n",
    "k_rate=mod.input_vote()\n",
    "\n",
    "k_list=[k_pages,k_date,k_cosine,k_rate]\n"
   ]
  },
  {
   "cell_type": "code",
   "execution_count": 530,
   "metadata": {},
   "outputs": [
    {
     "data": {
      "text/html": [
       "<div>\n",
       "<style scoped>\n",
       "    .dataframe tbody tr th:only-of-type {\n",
       "        vertical-align: middle;\n",
       "    }\n",
       "\n",
       "    .dataframe tbody tr th {\n",
       "        vertical-align: top;\n",
       "    }\n",
       "\n",
       "    .dataframe thead th {\n",
       "        text-align: right;\n",
       "    }\n",
       "</style>\n",
       "<table border=\"1\" class=\"dataframe\">\n",
       "  <thead>\n",
       "    <tr style=\"text-align: right;\">\n",
       "      <th></th>\n",
       "      <th>book_title</th>\n",
       "      <th>url</th>\n",
       "      <th>plot</th>\n",
       "      <th>cosine_similarity</th>\n",
       "      <th>rate_score</th>\n",
       "      <th>lenght_score</th>\n",
       "      <th>date_release_score</th>\n",
       "      <th>user_score</th>\n",
       "    </tr>\n",
       "  </thead>\n",
       "  <tbody>\n",
       "    <tr>\n",
       "      <td>0</td>\n",
       "      <td>The Hunger Games</td>\n",
       "      <td>https://www.goodreads.com/work/best_book/27927...</td>\n",
       "      <td>Could you survive on your own in the wild, wit...</td>\n",
       "      <td>0.3248</td>\n",
       "      <td>0.866000</td>\n",
       "      <td>0.826</td>\n",
       "      <td>1.000</td>\n",
       "      <td>0.754886</td>\n",
       "    </tr>\n",
       "    <tr>\n",
       "      <td>1</td>\n",
       "      <td>Catching Fire</td>\n",
       "      <td>https://www.goodreads.com/work/best_book/61714...</td>\n",
       "      <td>SPARKS ARE IGNITING.FLAMES ARE SPREADING.AND T...</td>\n",
       "      <td>0.0000</td>\n",
       "      <td>0.807126</td>\n",
       "      <td>0.939</td>\n",
       "      <td>0.943</td>\n",
       "      <td>0.700679</td>\n",
       "    </tr>\n",
       "    <tr>\n",
       "      <td>2</td>\n",
       "      <td>Mockingjay</td>\n",
       "      <td>https://www.goodreads.com/work/best_book/88127...</td>\n",
       "      <td>The final book in the ground-breaking HUNGER G...</td>\n",
       "      <td>0.0000</td>\n",
       "      <td>0.756398</td>\n",
       "      <td>0.930</td>\n",
       "      <td>0.852</td>\n",
       "      <td>0.669971</td>\n",
       "    </tr>\n",
       "    <tr>\n",
       "      <td>53</td>\n",
       "      <td>Aspho Fields</td>\n",
       "      <td>https://www.goodreads.com/work/best_book/49948...</td>\n",
       "      <td>For the first time, fans of the blockbuster Ge...</td>\n",
       "      <td>0.0679</td>\n",
       "      <td>0.424988</td>\n",
       "      <td>1.000</td>\n",
       "      <td>1.000</td>\n",
       "      <td>0.635975</td>\n",
       "    </tr>\n",
       "    <tr>\n",
       "      <td>41</td>\n",
       "      <td>The Stolen Throne</td>\n",
       "      <td>https://www.goodreads.com/work/best_book/64096...</td>\n",
       "      <td>The thrilling prequel to Dragon Age: Origins, ...</td>\n",
       "      <td>0.0000</td>\n",
       "      <td>0.420583</td>\n",
       "      <td>1.000</td>\n",
       "      <td>0.943</td>\n",
       "      <td>0.612024</td>\n",
       "    </tr>\n",
       "    <tr>\n",
       "      <td>97</td>\n",
       "      <td>Jacinto's Remnant</td>\n",
       "      <td>https://www.goodreads.com/work/best_book/64603...</td>\n",
       "      <td>Based on the blockbuster Xbox game, this is th...</td>\n",
       "      <td>0.0000</td>\n",
       "      <td>0.405834</td>\n",
       "      <td>1.000</td>\n",
       "      <td>0.943</td>\n",
       "      <td>0.607810</td>\n",
       "    </tr>\n",
       "    <tr>\n",
       "      <td>68</td>\n",
       "      <td>To Hell and Back</td>\n",
       "      <td>https://www.goodreads.com/work/best_book/11301...</td>\n",
       "      <td>The pulse-pounding finale to Lilith Saintcrow'...</td>\n",
       "      <td>0.0000</td>\n",
       "      <td>0.411769</td>\n",
       "      <td>0.887</td>\n",
       "      <td>1.000</td>\n",
       "      <td>0.577291</td>\n",
       "    </tr>\n",
       "    <tr>\n",
       "      <td>27</td>\n",
       "      <td>The Elephant Whisperer</td>\n",
       "      <td>https://www.goodreads.com/work/best_book/65632...</td>\n",
       "      <td>When South African conservationist Lawrence An...</td>\n",
       "      <td>0.0000</td>\n",
       "      <td>0.559588</td>\n",
       "      <td>0.783</td>\n",
       "      <td>0.943</td>\n",
       "      <td>0.574239</td>\n",
       "    </tr>\n",
       "    <tr>\n",
       "      <td>116</td>\n",
       "      <td>The Manhattan Hunt Club</td>\n",
       "      <td>https://www.goodreads.com/work/best_book/27639...</td>\n",
       "      <td>In Manhattan Hunt Club John Saul plumbs the de...</td>\n",
       "      <td>0.0000</td>\n",
       "      <td>0.436197</td>\n",
       "      <td>0.887</td>\n",
       "      <td>0.852</td>\n",
       "      <td>0.563128</td>\n",
       "    </tr>\n",
       "    <tr>\n",
       "      <td>22</td>\n",
       "      <td>Lexicon</td>\n",
       "      <td>https://www.goodreads.com/work/best_book/20077...</td>\n",
       "      <td>At an exclusive school somewhere outside of Ar...</td>\n",
       "      <td>0.0000</td>\n",
       "      <td>0.520223</td>\n",
       "      <td>0.930</td>\n",
       "      <td>0.566</td>\n",
       "      <td>0.561635</td>\n",
       "    </tr>\n",
       "  </tbody>\n",
       "</table>\n",
       "</div>"
      ],
      "text/plain": [
       "                  book_title  \\\n",
       "0           The Hunger Games   \n",
       "1              Catching Fire   \n",
       "2                 Mockingjay   \n",
       "53              Aspho Fields   \n",
       "41         The Stolen Throne   \n",
       "97         Jacinto's Remnant   \n",
       "68          To Hell and Back   \n",
       "27    The Elephant Whisperer   \n",
       "116  The Manhattan Hunt Club   \n",
       "22                   Lexicon   \n",
       "\n",
       "                                                   url  \\\n",
       "0    https://www.goodreads.com/work/best_book/27927...   \n",
       "1    https://www.goodreads.com/work/best_book/61714...   \n",
       "2    https://www.goodreads.com/work/best_book/88127...   \n",
       "53   https://www.goodreads.com/work/best_book/49948...   \n",
       "41   https://www.goodreads.com/work/best_book/64096...   \n",
       "97   https://www.goodreads.com/work/best_book/64603...   \n",
       "68   https://www.goodreads.com/work/best_book/11301...   \n",
       "27   https://www.goodreads.com/work/best_book/65632...   \n",
       "116  https://www.goodreads.com/work/best_book/27639...   \n",
       "22   https://www.goodreads.com/work/best_book/20077...   \n",
       "\n",
       "                                                  plot  cosine_similarity  \\\n",
       "0    Could you survive on your own in the wild, wit...             0.3248   \n",
       "1    SPARKS ARE IGNITING.FLAMES ARE SPREADING.AND T...             0.0000   \n",
       "2    The final book in the ground-breaking HUNGER G...             0.0000   \n",
       "53   For the first time, fans of the blockbuster Ge...             0.0679   \n",
       "41   The thrilling prequel to Dragon Age: Origins, ...             0.0000   \n",
       "97   Based on the blockbuster Xbox game, this is th...             0.0000   \n",
       "68   The pulse-pounding finale to Lilith Saintcrow'...             0.0000   \n",
       "27   When South African conservationist Lawrence An...             0.0000   \n",
       "116  In Manhattan Hunt Club John Saul plumbs the de...             0.0000   \n",
       "22   At an exclusive school somewhere outside of Ar...             0.0000   \n",
       "\n",
       "     rate_score  lenght_score  date_release_score  user_score  \n",
       "0      0.866000         0.826               1.000    0.754886  \n",
       "1      0.807126         0.939               0.943    0.700679  \n",
       "2      0.756398         0.930               0.852    0.669971  \n",
       "53     0.424988         1.000               1.000    0.635975  \n",
       "41     0.420583         1.000               0.943    0.612024  \n",
       "97     0.405834         1.000               0.943    0.607810  \n",
       "68     0.411769         0.887               1.000    0.577291  \n",
       "27     0.559588         0.783               0.943    0.574239  \n",
       "116    0.436197         0.887               0.852    0.563128  \n",
       "22     0.520223         0.930               0.566    0.561635  "
      ]
     },
     "execution_count": 530,
     "metadata": {},
     "output_type": "execute_result"
    }
   ],
   "source": [
    "mod.similarity_score(output,cosine_similarity,rate_score,book_lenght_score,publish_date_score,k_list)"
   ]
  }
 ],
 "metadata": {
  "kernelspec": {
   "display_name": "Python 3",
   "language": "python",
   "name": "python3"
  },
  "language_info": {
   "codemirror_mode": {
    "name": "ipython",
    "version": 3
   },
   "file_extension": ".py",
   "mimetype": "text/x-python",
   "name": "python",
   "nbconvert_exporter": "python",
   "pygments_lexer": "ipython3",
   "version": "3.7.4"
  }
 },
 "nbformat": 4,
 "nbformat_minor": 2
}
