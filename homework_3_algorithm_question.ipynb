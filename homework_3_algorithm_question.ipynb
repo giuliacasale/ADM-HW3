{
 "cells": [
  {
   "cell_type": "code",
   "execution_count": 1,
   "metadata": {},
   "outputs": [],
   "source": [
    "from random import randint"
   ]
  },
  {
   "cell_type": "markdown",
   "metadata": {},
   "source": [
    "# Recursive algorithm"
   ]
  },
  {
   "cell_type": "code",
   "execution_count": 2,
   "metadata": {},
   "outputs": [],
   "source": [
    "def max_substring_length_idx_recursive(s, idx):\n",
    "    # String S, index idx -> X[idx] = the length of the longest sequence of characters\n",
    "    #                                 in alphabetical order that terminates at the idx-th character\n",
    "    # Return:\n",
    "    #   X[idx] = 1 + max{X[j]; j = 0, ..., i-1, such that S[j]<S[idx]}\n",
    "    #   X[idx] = 1, if there does not exist such a j\n",
    "    return 1 + max([0] + [max_substring_length_idx_recursive(s, j) for j in range(idx) if s[j] < s[idx]])"
   ]
  },
  {
   "cell_type": "markdown",
   "metadata": {},
   "source": [
    "### Compleity demonstration\n",
    "\n",
    "$\\mathcal{O}(max\\_len(S,i)) = \\sum_{1\\leq j \\leq i-1} max\\_len(S,j)) = \\mathcal{O}(max\\_len(S,i-1)+max\\_len(S,i-2)+...+max\\_len(S,1))$ \n",
    "\n",
    "Where $\\mathcal{O}(max\\_len(S,i-1))=\\mathcal{O}(max\\_len(S,i-2)+max\\_len(S,i-3)+...+max\\_len(S,1))$\n",
    "\n",
    "$\\implies \\mathcal{O}(max\\_len(S,i)) = \\mathcal{O}(2max\\_len(S,i-2)+2 max\\_len(S,i-3)+...+2 max\\_len(S,1))$\n",
    "\n",
    "If we iterate the same process $i-1$ times\n",
    "\n",
    "$\\mathcal{O}(max\\_len(S,i)) = \\mathcal{O}(2^{i-1}max\\_len(S,1)) \\implies \\mathcal{O}(max\\_len(S,i))=\\mathcal{O}(2^i)$\n",
    "\n",
    "where $\\mathcal{O}(max\\_len(S,1))=\\mathcal{O}(1)$"
   ]
  },
  {
   "cell_type": "code",
   "execution_count": 3,
   "metadata": {},
   "outputs": [],
   "source": [
    "# This function computes the length of the subsequence of maximum length that is in alphabetical order.\n",
    "def max_substring_length_recursive(s):\n",
    "    return max_substring_length_idx_recursive(s + chr(ord('Z') + 1), len(s)) - 1"
   ]
  },
  {
   "cell_type": "markdown",
   "metadata": {},
   "source": [
    "# Dynamic Programming algorithm"
   ]
  },
  {
   "cell_type": "code",
   "execution_count": 4,
   "metadata": {},
   "outputs": [],
   "source": [
    "def max_substring_length_dynamic_programming(s):\n",
    "    max_lengths = []  # This is our Dynamic Programming vector.\n",
    "    # The i-th element of the vector contains the couple (S[i], X[i])\n",
    "\n",
    "    # Loop through the string s to fill the D.P. vector\n",
    "    for i in range(len(s)):\n",
    "        max_x_j = 0\n",
    "        for s_j, x_j in max_lengths:\n",
    "            if s_j < s[i] and max_x_j < x_j:\n",
    "                max_x_j = x_j\n",
    "        max_lengths.append((s[i], max_x_j+1))\n",
    "\n",
    "    # Return the maximum X[i] in the D.P. vector\n",
    "    return max(max_lengths, key=lambda x: x[1])[1]"
   ]
  },
  {
   "cell_type": "markdown",
   "metadata": {},
   "source": [
    "### Compleity demonstration\n",
    "\n",
    "In dynamic programming, it is iterated over a string s, for each element of the string it is necessary to find the maximum in a list. The list has lenght equal to the index of the character in the string. In order to find the maximum is required that the algorithm performs len(L) steps. n=lenght(S)\n",
    "\n",
    "$\\theta(max\\_len(S))=\\theta(\\sum_{0\\leq i \\leq n} len(L_i))$\n",
    "\n",
    "=$\\theta(\\sum_{0\\leq i \\leq n}^{}i)=\\theta(\\frac{n(n-1)}{2})$= $\\theta(n^2)$\n",
    "\n",
    "as a result, it is possible to observe that using dynamic programming to perform this task requires polynomial time, whereas using normal recursive algorithm would require exponential time. So It can be claimed that dynamic programming is more efficient than recursive algorithm in this case."
   ]
  },
  {
   "cell_type": "markdown",
   "metadata": {},
   "source": [
    "## Utility functions\n",
    "These functions allow us to create short and long string to perform some tests on the scalability of the algorithms above."
   ]
  },
  {
   "cell_type": "code",
   "execution_count": 5,
   "metadata": {},
   "outputs": [],
   "source": [
    "def create_long_string(size=100):\n",
    "    alphabet = 'ABCDEFGHIJKLMNOPQRSTUVWXYZ'\n",
    "    return alphabet * size\n",
    "\n",
    "\n",
    "def create_short_string(max_substring_length, n_trash_char=1):\n",
    "    # Fix input variable if out of bounds\n",
    "    if n_trash_char < 0:\n",
    "        n_trash_char = 0\n",
    "    if max_substring_length <= 0:\n",
    "        max_substring_length = 1\n",
    "    elif max_substring_length > 26:\n",
    "        max_substring_length = 26\n",
    "    s = ''  # Create an empty string\n",
    "    idx_char = ord('A')  # Calculate index of char A\n",
    "    # For\n",
    "    for _ in range(max_substring_length-1):\n",
    "        s += chr(idx_char)\n",
    "        s += 'Z' * n_trash_char\n",
    "        idx_char += 1\n",
    "    s += chr(idx_char)\n",
    "    return s"
   ]
  },
  {
   "cell_type": "markdown",
   "metadata": {},
   "source": [
    "## Tests\n",
    "### Short strings"
   ]
  },
  {
   "cell_type": "code",
   "execution_count": 6,
   "metadata": {},
   "outputs": [
    {
     "name": "stdout",
     "output_type": "stream",
     "text": [
      "Tests on short string\n",
      "Max Substring Length: 17 - Recursive Function Output: 17 - DP Function Output: 17\n",
      "Max Substring Length: 24 - Recursive Function Output: 24 - DP Function Output: 24\n",
      "Max Substring Length: 18 - Recursive Function Output: 18 - DP Function Output: 18\n",
      "Max Substring Length: 1 - Recursive Function Output: 1 - DP Function Output: 1\n",
      "Max Substring Length: 25 - Recursive Function Output: 25 - DP Function Output: 25\n",
      "Max Substring Length: 4 - Recursive Function Output: 4 - DP Function Output: 4\n",
      "Max Substring Length: 17 - Recursive Function Output: 17 - DP Function Output: 17\n",
      "Max Substring Length: 18 - Recursive Function Output: 18 - DP Function Output: 18\n",
      "Max Substring Length: 22 - Recursive Function Output: 22 - DP Function Output: 22\n",
      "Max Substring Length: 2 - Recursive Function Output: 2 - DP Function Output: 2\n"
     ]
    }
   ],
   "source": [
    "# Test the functions on short string\n",
    "n_test = 10\n",
    "print('Tests on short string')\n",
    "for _ in range(n_test):\n",
    "    max_substr_len = randint(1, 26)\n",
    "    S = create_short_string(max_substr_len)\n",
    "    print('Max Substring Length:', max_substr_len,\n",
    "          '- Recursive Function Output:', max_substring_length_recursive(S),\n",
    "          '- DP Function Output:', max_substring_length_recursive(S))"
   ]
  },
  {
   "cell_type": "markdown",
   "metadata": {},
   "source": [
    "### Long strings"
   ]
  },
  {
   "cell_type": "code",
   "execution_count": 7,
   "metadata": {},
   "outputs": [
    {
     "name": "stdout",
     "output_type": "stream",
     "text": [
      "\n",
      "Tests on long string\n",
      "String S maximum substring length: 26\n",
      "Dynamic Programming Function Output: 26\n"
     ]
    }
   ],
   "source": [
    "# Test the functions on long string\n",
    "print('Tests on long string')\n",
    "S = create_long_string()\n",
    "print('String S maximum substring length: 26')\n",
    "print('Dynamic Programming Function Output:', max_substring_length_dynamic_programming(S))\n",
    "# Using the string S the recursive algorithm does not terminate in reasonable time\n",
    "# print('Recursive Function Output:', max_substring_length_recursive(S))"
   ]
  },
  {
   "cell_type": "code",
   "execution_count": null,
   "metadata": {},
   "outputs": [],
   "source": []
  }
 ],
 "metadata": {
  "kernelspec": {
   "display_name": "Python 3",
   "language": "python",
   "name": "python3"
  },
  "language_info": {
   "codemirror_mode": {
    "name": "ipython",
    "version": 3
   },
   "file_extension": ".py",
   "mimetype": "text/x-python",
   "name": "python",
   "nbconvert_exporter": "python",
   "pygments_lexer": "ipython3",
   "version": "3.7.7"
  }
 },
 "nbformat": 4,
 "nbformat_minor": 2
}
