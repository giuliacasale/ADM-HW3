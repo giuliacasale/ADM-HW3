{
 "cells": [
  {
   "cell_type": "markdown",
   "metadata": {},
   "source": [
    "**Recursive algorithm**"
   ]
  },
  {
   "cell_type": "markdown",
   "metadata": {},
   "source": [
    "$\\mathcal{O}(max\\_len(S,i))=\\mathcal{O}(m\\_l(S,i))=\\sum_{1\\leq j \\leq i-1} m\\_l(S,j))$\n",
    "\n",
    "$=\\mathcal{O}(m\\_l(S,i-1)+m\\_l(S,i-2)+....+m\\_l(S,1))$ \n",
    "\n",
    "where $\\mathcal{O}(max\\_len(S,i-1))=\\mathcal{O}(m\\_l(S,i-2)+m\\_(S,i-3)+.....+ +m\\_l(S,1))$\n",
    "\n",
    "=$\\mathcal{O}(2 m\\_l(S,i-2)+2m\\_l(S,i-3)+$....$2m\\_l(S,1))$\n",
    "\n",
    "iterating the same process i-1 times\n",
    "\n",
    "=$\\mathcal{O}(2^{i-1} m\\_l(S,1)) \\implies \\mathcal{O}(m\\_l(S,i))=\\mathcal{O}(2^i)$\n",
    "\n",
    "where \n",
    "\n",
    "$\\mathcal{O}(m\\_l(S,1))=\\mathcal{O}(1)$"
   ]
  },
  {
   "cell_type": "markdown",
   "metadata": {},
   "source": [
    "**Dynamic Programming algorithm**"
   ]
  },
  {
   "cell_type": "markdown",
   "metadata": {},
   "source": [
    "In dynamic programming, it is iterated over a string s, for each element of the string it is necessary to find the maximum in a list. The list has lenght equal to the index of the character in the string. In order to find the maximum is required that the algorithm performs len(L) steps. n=lenght(S)\n",
    "\n",
    "$\\theta(max\\_len(S))=\\theta(\\sum_{0\\leq i \\leq n} len(L_i))$\n",
    "\n",
    "=$\\theta(\\sum_{0\\leq i \\leq n}^{}i)=\\theta(\\frac{n(n-1)}{2})$= $\\theta(n^2)$\n",
    "\n",
    "as a result, it is possible to observe that using dynamic programming to perform this task requires polynomial time, whereas using normal recursive algorithm would require exponential time. So It can be claimed that dynamic programming is more efficient than recursive algorithm in this case."
   ]
  },
  {
   "cell_type": "code",
   "execution_count": null,
   "metadata": {},
   "outputs": [],
   "source": []
  }
 ],
 "metadata": {
  "kernelspec": {
   "display_name": "Python 3",
   "language": "python",
   "name": "python3"
  },
  "language_info": {
   "codemirror_mode": {
    "name": "ipython",
    "version": 3
   },
   "file_extension": ".py",
   "mimetype": "text/x-python",
   "name": "python",
   "nbconvert_exporter": "python",
   "pygments_lexer": "ipython3",
   "version": "3.7.4"
  }
 },
 "nbformat": 4,
 "nbformat_minor": 2
}
